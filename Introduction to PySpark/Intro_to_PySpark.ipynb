{
 "cells": [
  {
   "cell_type": "markdown",
   "id": "4c462205-ef4b-4918-810a-ac739fff17c6",
   "metadata": {},
   "source": [
    "# Getting to Know PySpark"
   ]
  },
  {
   "cell_type": "code",
   "execution_count": 1,
   "id": "6e5f9839-05fc-4631-957d-26d579ac30ef",
   "metadata": {},
   "outputs": [],
   "source": [
    "from pyspark.sql import SparkSession"
   ]
  },
  {
   "cell_type": "code",
   "execution_count": 2,
   "id": "7c602f75-e49a-42ae-bdf6-1f14e4399174",
   "metadata": {},
   "outputs": [
    {
     "name": "stderr",
     "output_type": "stream",
     "text": [
      "Setting default log level to \"WARN\".\n",
      "To adjust logging level use sc.setLogLevel(newLevel). For SparkR, use setLogLevel(newLevel).\n",
      "24/02/03 17:44:03 WARN NativeCodeLoader: Unable to load native-hadoop library for your platform... using builtin-java classes where applicable\n"
     ]
    }
   ],
   "source": [
    "sc = SparkSession.builder.appName(\"Basics\").getOrCreate()"
   ]
  },
  {
   "cell_type": "code",
   "execution_count": 3,
   "id": "f6a525a9-d47d-4282-b2dc-7759b403e9c6",
   "metadata": {},
   "outputs": [
    {
     "name": "stdout",
     "output_type": "stream",
     "text": [
      "<pyspark.sql.session.SparkSession object at 0x107fb8370>\n",
      "3.5.0\n"
     ]
    }
   ],
   "source": [
    "# Verify SparkContext\n",
    "print(sc)\n",
    "\n",
    "# Print Spark version\n",
    "print(sc.version)"
   ]
  },
  {
   "cell_type": "code",
   "execution_count": 4,
   "id": "a2f76b34-0003-4bea-8c81-9047e22323bb",
   "metadata": {},
   "outputs": [
    {
     "data": {
      "text/html": [
       "<!--The below HTML code shows PySpark dataframe output in horizontally scrollable format, -->\n",
       "<!--instead of wrapping columns in the Jupyter notebook.-->\n",
       "<!--The side effect of this is that some of the other single line outputs also doesn't wrap around.-->\n",
       "<style>\n",
       "div.jp-Cell-outputWrapper pre {\n",
       "    white-space: pre;\n",
       "}\n",
       "</style>\n"
      ],
      "text/plain": [
       "<IPython.core.display.HTML object>"
      ]
     },
     "metadata": {},
     "output_type": "display_data"
    }
   ],
   "source": [
    "%%html\n",
    "<!--The below HTML code shows PySpark dataframe output in horizontally scrollable format, -->\n",
    "<!--instead of wrapping columns in the Jupyter notebook.-->\n",
    "<!--The side effect of this is that some of the other single line outputs also doesn't wrap around.-->\n",
    "<style>\n",
    "div.jp-Cell-outputWrapper pre {\n",
    "    white-space: pre;\n",
    "}\n",
    "</style>"
   ]
  },
  {
   "cell_type": "markdown",
   "id": "0b6515c6-503b-492f-b056-a6a405a55972",
   "metadata": {},
   "source": [
    "## Using DataFrames\n",
    "Spark's core data structure is the Resilient Distributed Dataset (RDD). This is a low level object that lets Spark work its magic by splitting data across multiple nodes in the cluster. However, RDDs are hard to work with directly, so in this course you'll be using the Spark DataFrame abstraction built on top of RDDs.\n",
    "\n",
    "The Spark DataFrame was designed to behave a lot like a SQL table (a table with variables in the columns and observations in the rows). Not only are they easier to understand, DataFrames are also more optimized for complicated operations than RDDs.\n",
    "\n",
    "When you start modifying and combining columns and rows of data, there are many ways to arrive at the same result, but some often take much longer than others. When using RDDs, it's up to the data scientist to figure out the right way to optimize the query, but the DataFrame implementation has much of this optimization built in!\n",
    "\n",
    "To start working with Spark DataFrames, you first have to create a SparkSession object from your SparkContext. You can think of the SparkContext as your connection to the cluster and the SparkSession as your interface with that connection.\n",
    "\n"
   ]
  },
  {
   "cell_type": "markdown",
   "id": "0d690d58-0cae-41d3-9f6a-db70ef5934cf",
   "metadata": {},
   "source": [
    "## Viewing Tables"
   ]
  },
  {
   "cell_type": "code",
   "execution_count": 5,
   "id": "4bd8cdd6-69c8-4f0c-9ab5-95a03352bdbe",
   "metadata": {},
   "outputs": [
    {
     "name": "stdout",
     "output_type": "stream",
     "text": [
      "<pyspark.sql.session.SparkSession object at 0x107fb8370>\n"
     ]
    }
   ],
   "source": [
    "# Import SparkSession from pyspark.sql\n",
    "from pyspark.sql import SparkSession\n",
    "\n",
    "# Create my_spark\n",
    "my_spark = SparkSession.builder.getOrCreate()\n",
    "\n",
    "# Print my_spark\n",
    "print(my_spark)"
   ]
  },
  {
   "cell_type": "code",
   "execution_count": 6,
   "id": "1345d329-cf0d-4f55-99a9-0d3f87e3f795",
   "metadata": {},
   "outputs": [],
   "source": [
    "spark = SparkSession.builder.getOrCreate()"
   ]
  },
  {
   "cell_type": "code",
   "execution_count": 7,
   "id": "ce16255f-eddd-4300-a56d-5376893a2ae5",
   "metadata": {},
   "outputs": [
    {
     "name": "stdout",
     "output_type": "stream",
     "text": [
      "[]\n"
     ]
    }
   ],
   "source": [
    " # Print the tables in the catalog\n",
    "print(spark.catalog.listTables())"
   ]
  },
  {
   "cell_type": "markdown",
   "id": "6fff48da-c4f5-43cc-8feb-c9d016d5a938",
   "metadata": {},
   "source": [
    "## Query"
   ]
  },
  {
   "cell_type": "code",
   "execution_count": 8,
   "id": "b4f5ec1a-94d3-417c-82bd-29adba7139f9",
   "metadata": {},
   "outputs": [],
   "source": [
    "flights = spark.read.csv(\"flights.csv\", header=True)"
   ]
  },
  {
   "cell_type": "code",
   "execution_count": 9,
   "id": "200d9712-bb76-434e-ad5d-c95a5e8c8bbe",
   "metadata": {},
   "outputs": [
    {
     "name": "stderr",
     "output_type": "stream",
     "text": [
      "24/02/03 17:44:08 WARN SparkStringUtils: Truncated the string representation of a plan since it was too large. This behavior can be adjusted by setting 'spark.sql.debug.maxToStringFields'.\n"
     ]
    },
    {
     "name": "stdout",
     "output_type": "stream",
     "text": [
      "+----+-----+---+-----------+-------+-------------+-----------+--------------+-------------------+-------------------+--------------+---------------+--------+----------+--------------+------------+--------+--------+---------+-------+-----------------+------------+-------------+--------+---------+-------------------+----------------+--------------+-------------+-------------------+-------------+\n",
      "|YEAR|MONTH|DAY|DAY_OF_WEEK|AIRLINE|FLIGHT_NUMBER|TAIL_NUMBER|ORIGIN_AIRPORT|DESTINATION_AIRPORT|SCHEDULED_DEPARTURE|DEPARTURE_TIME|DEPARTURE_DELAY|TAXI_OUT|WHEELS_OFF|SCHEDULED_TIME|ELAPSED_TIME|AIR_TIME|DISTANCE|WHEELS_ON|TAXI_IN|SCHEDULED_ARRIVAL|ARRIVAL_TIME|ARRIVAL_DELAY|DIVERTED|CANCELLED|CANCELLATION_REASON|AIR_SYSTEM_DELAY|SECURITY_DELAY|AIRLINE_DELAY|LATE_AIRCRAFT_DELAY|WEATHER_DELAY|\n",
      "+----+-----+---+-----------+-------+-------------+-----------+--------------+-------------------+-------------------+--------------+---------------+--------+----------+--------------+------------+--------+--------+---------+-------+-----------------+------------+-------------+--------+---------+-------------------+----------------+--------------+-------------+-------------------+-------------+\n",
      "|2015|    1|  1|          4|     AS|           98|     N407AS|           ANC|                SEA|               0005|          2354|            -11|      21|      0015|           205|         194|     169|    1448|     0404|      4|             0430|        0408|          -22|       0|        0|               NULL|            NULL|          NULL|         NULL|               NULL|         NULL|\n",
      "|2015|    1|  1|          4|     AA|         2336|     N3KUAA|           LAX|                PBI|               0010|          0002|             -8|      12|      0014|           280|         279|     263|    2330|     0737|      4|             0750|        0741|           -9|       0|        0|               NULL|            NULL|          NULL|         NULL|               NULL|         NULL|\n",
      "|2015|    1|  1|          4|     US|          840|     N171US|           SFO|                CLT|               0020|          0018|             -2|      16|      0034|           286|         293|     266|    2296|     0800|     11|             0806|        0811|            5|       0|        0|               NULL|            NULL|          NULL|         NULL|               NULL|         NULL|\n",
      "|2015|    1|  1|          4|     AA|          258|     N3HYAA|           LAX|                MIA|               0020|          0015|             -5|      15|      0030|           285|         281|     258|    2342|     0748|      8|             0805|        0756|           -9|       0|        0|               NULL|            NULL|          NULL|         NULL|               NULL|         NULL|\n",
      "|2015|    1|  1|          4|     AS|          135|     N527AS|           SEA|                ANC|               0025|          0024|             -1|      11|      0035|           235|         215|     199|    1448|     0254|      5|             0320|        0259|          -21|       0|        0|               NULL|            NULL|          NULL|         NULL|               NULL|         NULL|\n",
      "|2015|    1|  1|          4|     DL|          806|     N3730B|           SFO|                MSP|               0025|          0020|             -5|      18|      0038|           217|         230|     206|    1589|     0604|      6|             0602|        0610|            8|       0|        0|               NULL|            NULL|          NULL|         NULL|               NULL|         NULL|\n",
      "|2015|    1|  1|          4|     NK|          612|     N635NK|           LAS|                MSP|               0025|          0019|             -6|      11|      0030|           181|         170|     154|    1299|     0504|      5|             0526|        0509|          -17|       0|        0|               NULL|            NULL|          NULL|         NULL|               NULL|         NULL|\n",
      "|2015|    1|  1|          4|     US|         2013|     N584UW|           LAX|                CLT|               0030|          0044|             14|      13|      0057|           273|         249|     228|    2125|     0745|      8|             0803|        0753|          -10|       0|        0|               NULL|            NULL|          NULL|         NULL|               NULL|         NULL|\n",
      "|2015|    1|  1|          4|     AA|         1112|     N3LAAA|           SFO|                DFW|               0030|          0019|            -11|      17|      0036|           195|         193|     173|    1464|     0529|      3|             0545|        0532|          -13|       0|        0|               NULL|            NULL|          NULL|         NULL|               NULL|         NULL|\n",
      "|2015|    1|  1|          4|     DL|         1173|     N826DN|           LAS|                ATL|               0030|          0033|              3|      12|      0045|           221|         203|     186|    1747|     0651|      5|             0711|        0656|          -15|       0|        0|               NULL|            NULL|          NULL|         NULL|               NULL|         NULL|\n",
      "|2015|    1|  1|          4|     DL|         2336|     N958DN|           DEN|                ATL|               0030|          0024|             -6|      12|      0036|           173|         149|     133|    1199|     0449|      4|             0523|        0453|          -30|       0|        0|               NULL|            NULL|          NULL|         NULL|               NULL|         NULL|\n",
      "|2015|    1|  1|          4|     AA|         1674|     N853AA|           LAS|                MIA|               0035|          0027|             -8|      21|      0048|           268|         266|     238|    2174|     0746|      7|             0803|        0753|          -10|       0|        0|               NULL|            NULL|          NULL|         NULL|               NULL|         NULL|\n",
      "|2015|    1|  1|          4|     DL|         1434|     N547US|           LAX|                MSP|               0035|          0035|              0|      18|      0053|           214|         210|     188|    1535|     0601|      4|             0609|        0605|           -4|       0|        0|               NULL|            NULL|          NULL|         NULL|               NULL|         NULL|\n",
      "|2015|    1|  1|          4|     DL|         2324|     N3751B|           SLC|                ATL|               0040|          0034|             -6|      18|      0052|           215|         199|     176|    1590|     0548|      5|             0615|        0553|          -22|       0|        0|               NULL|            NULL|          NULL|         NULL|               NULL|         NULL|\n",
      "|2015|    1|  1|          4|     DL|         2440|     N651DL|           SEA|                MSP|               0040|          0039|             -1|      28|      0107|           189|         198|     166|    1399|     0553|      4|             0549|        0557|            8|       0|        0|               NULL|            NULL|          NULL|         NULL|               NULL|         NULL|\n",
      "|2015|    1|  1|          4|     AS|          108|     N309AS|           ANC|                SEA|               0045|          0041|             -4|      17|      0058|           204|         194|     173|    1448|     0451|      4|             0509|        0455|          -14|       0|        0|               NULL|            NULL|          NULL|         NULL|               NULL|         NULL|\n",
      "|2015|    1|  1|          4|     DL|         1560|     N3743H|           ANC|                SEA|               0045|          0031|            -14|      25|      0056|           210|         200|     171|    1448|     0447|      4|             0515|        0451|          -24|       0|        0|               NULL|            NULL|          NULL|         NULL|               NULL|         NULL|\n",
      "|2015|    1|  1|          4|     UA|         1197|     N78448|           SFO|                IAH|               0048|          0042|             -6|      11|      0053|           218|         217|     199|    1635|     0612|      7|             0626|        0619|           -7|       0|        0|               NULL|            NULL|          NULL|         NULL|               NULL|         NULL|\n",
      "|2015|    1|  1|          4|     AS|          122|     N413AS|           ANC|                PDX|               0050|          0046|             -4|      11|      0057|           215|         201|     187|    1542|     0504|      3|             0525|        0507|          -18|       0|        0|               NULL|            NULL|          NULL|         NULL|               NULL|         NULL|\n",
      "|2015|    1|  1|          4|     DL|         1670|     N806DN|           PDX|                MSP|               0050|          0045|             -5|       9|      0054|           193|         186|     171|    1426|     0545|      6|             0603|        0551|          -12|       0|        0|               NULL|            NULL|          NULL|         NULL|               NULL|         NULL|\n",
      "+----+-----+---+-----------+-------+-------------+-----------+--------------+-------------------+-------------------+--------------+---------------+--------+----------+--------------+------------+--------+--------+---------+-------+-----------------+------------+-------------+--------+---------+-------------------+----------------+--------------+-------------+-------------------+-------------+\n",
      "only showing top 20 rows\n",
      "\n"
     ]
    }
   ],
   "source": [
    "flights.show()"
   ]
  },
  {
   "cell_type": "markdown",
   "id": "26cf6a5d-b42b-4d31-a018-8ace4449515e",
   "metadata": {},
   "source": [
    "### Converting column names to lowercase"
   ]
  },
  {
   "cell_type": "code",
   "execution_count": 10,
   "id": "8ffaabe0-c467-478a-87d5-eed68eb7d737",
   "metadata": {},
   "outputs": [],
   "source": [
    "for col in flights.columns:\n",
    "    flights = flights.withColumnRenamed(col, col.lower())"
   ]
  },
  {
   "cell_type": "code",
   "execution_count": 11,
   "id": "e5eede3e-89c5-4cde-afc2-70baffcf942f",
   "metadata": {},
   "outputs": [],
   "source": [
    "flights = (flights\n",
    "                .withColumnRenamed('origin_airport', 'origin')\n",
    "                .withColumnRenamed('destination_airport', 'dest')\n",
    "                .withColumnRenamed('airline', 'carrier')\n",
    "                .withColumnRenamed('tail_number', 'tailnum')\n",
    "                .withColumnRenamed('departure_delay', 'dep_delay')\n",
    "                .withColumnRenamed('arrival_delay', 'arr_delay'))"
   ]
  },
  {
   "cell_type": "code",
   "execution_count": 12,
   "id": "4463d2dd-8d9d-48dc-9ce8-334e089fce51",
   "metadata": {},
   "outputs": [],
   "source": [
    "flights.createOrReplaceTempView('flights')"
   ]
  },
  {
   "cell_type": "code",
   "execution_count": 13,
   "id": "d2213bce-9be5-4a25-be19-9f004b002858",
   "metadata": {},
   "outputs": [
    {
     "name": "stdout",
     "output_type": "stream",
     "text": [
      "+----+-----+---+-----------+-------+-------------+-------+------+----+-------------------+--------------+---------+--------+----------+--------------+------------+--------+--------+---------+-------+-----------------+------------+---------+--------+---------+-------------------+----------------+--------------+-------------+-------------------+-------------+\n",
      "|year|month|day|day_of_week|carrier|flight_number|tailnum|origin|dest|scheduled_departure|departure_time|dep_delay|taxi_out|wheels_off|scheduled_time|elapsed_time|air_time|distance|wheels_on|taxi_in|scheduled_arrival|arrival_time|arr_delay|diverted|cancelled|cancellation_reason|air_system_delay|security_delay|airline_delay|late_aircraft_delay|weather_delay|\n",
      "+----+-----+---+-----------+-------+-------------+-------+------+----+-------------------+--------------+---------+--------+----------+--------------+------------+--------+--------+---------+-------+-----------------+------------+---------+--------+---------+-------------------+----------------+--------------+-------------+-------------------+-------------+\n",
      "|2015|    1|  1|          4|     AS|           98| N407AS|   ANC| SEA|               0005|          2354|      -11|      21|      0015|           205|         194|     169|    1448|     0404|      4|             0430|        0408|      -22|       0|        0|               NULL|            NULL|          NULL|         NULL|               NULL|         NULL|\n",
      "|2015|    1|  1|          4|     AA|         2336| N3KUAA|   LAX| PBI|               0010|          0002|       -8|      12|      0014|           280|         279|     263|    2330|     0737|      4|             0750|        0741|       -9|       0|        0|               NULL|            NULL|          NULL|         NULL|               NULL|         NULL|\n",
      "|2015|    1|  1|          4|     US|          840| N171US|   SFO| CLT|               0020|          0018|       -2|      16|      0034|           286|         293|     266|    2296|     0800|     11|             0806|        0811|        5|       0|        0|               NULL|            NULL|          NULL|         NULL|               NULL|         NULL|\n",
      "|2015|    1|  1|          4|     AA|          258| N3HYAA|   LAX| MIA|               0020|          0015|       -5|      15|      0030|           285|         281|     258|    2342|     0748|      8|             0805|        0756|       -9|       0|        0|               NULL|            NULL|          NULL|         NULL|               NULL|         NULL|\n",
      "|2015|    1|  1|          4|     AS|          135| N527AS|   SEA| ANC|               0025|          0024|       -1|      11|      0035|           235|         215|     199|    1448|     0254|      5|             0320|        0259|      -21|       0|        0|               NULL|            NULL|          NULL|         NULL|               NULL|         NULL|\n",
      "|2015|    1|  1|          4|     DL|          806| N3730B|   SFO| MSP|               0025|          0020|       -5|      18|      0038|           217|         230|     206|    1589|     0604|      6|             0602|        0610|        8|       0|        0|               NULL|            NULL|          NULL|         NULL|               NULL|         NULL|\n",
      "|2015|    1|  1|          4|     NK|          612| N635NK|   LAS| MSP|               0025|          0019|       -6|      11|      0030|           181|         170|     154|    1299|     0504|      5|             0526|        0509|      -17|       0|        0|               NULL|            NULL|          NULL|         NULL|               NULL|         NULL|\n",
      "|2015|    1|  1|          4|     US|         2013| N584UW|   LAX| CLT|               0030|          0044|       14|      13|      0057|           273|         249|     228|    2125|     0745|      8|             0803|        0753|      -10|       0|        0|               NULL|            NULL|          NULL|         NULL|               NULL|         NULL|\n",
      "|2015|    1|  1|          4|     AA|         1112| N3LAAA|   SFO| DFW|               0030|          0019|      -11|      17|      0036|           195|         193|     173|    1464|     0529|      3|             0545|        0532|      -13|       0|        0|               NULL|            NULL|          NULL|         NULL|               NULL|         NULL|\n",
      "|2015|    1|  1|          4|     DL|         1173| N826DN|   LAS| ATL|               0030|          0033|        3|      12|      0045|           221|         203|     186|    1747|     0651|      5|             0711|        0656|      -15|       0|        0|               NULL|            NULL|          NULL|         NULL|               NULL|         NULL|\n",
      "+----+-----+---+-----------+-------+-------------+-------+------+----+-------------------+--------------+---------+--------+----------+--------------+------------+--------+--------+---------+-------+-----------------+------------+---------+--------+---------+-------------------+----------------+--------------+-------------+-------------------+-------------+\n",
      "\n"
     ]
    }
   ],
   "source": [
    "# Don't change this query\n",
    "query = \"FROM flights SELECT * LIMIT 10\"\n",
    "\n",
    "# Get the first 10 rows of flights\n",
    "flights10 = spark.sql(query)\n",
    "\n",
    "# Show the results\n",
    "flights10.show()"
   ]
  },
  {
   "cell_type": "markdown",
   "id": "815f0332-7378-4b3f-b466-f05322389413",
   "metadata": {},
   "source": [
    "## Pandafy a Spark DataFrame"
   ]
  },
  {
   "cell_type": "code",
   "execution_count": 1,
   "id": "b0202e52-66d5-471c-904f-42e276fa151d",
   "metadata": {},
   "outputs": [
    {
     "ename": "NameError",
     "evalue": "name 'spark' is not defined",
     "output_type": "error",
     "traceback": [
      "\u001b[0;31m---------------------------------------------------------------------------\u001b[0m",
      "\u001b[0;31mNameError\u001b[0m                                 Traceback (most recent call last)",
      "Cell \u001b[0;32mIn[1], line 5\u001b[0m\n\u001b[1;32m      2\u001b[0m query \u001b[38;5;241m=\u001b[39m \u001b[38;5;124m\"\u001b[39m\u001b[38;5;124mSELECT origin, dest, COUNT(*) as N FROM flights GROUP BY origin, dest\u001b[39m\u001b[38;5;124m\"\u001b[39m\n\u001b[1;32m      4\u001b[0m \u001b[38;5;66;03m# Run the query\u001b[39;00m\n\u001b[0;32m----> 5\u001b[0m flight_counts \u001b[38;5;241m=\u001b[39m \u001b[43mspark\u001b[49m\u001b[38;5;241m.\u001b[39msql(query)\n\u001b[1;32m      7\u001b[0m \u001b[38;5;66;03m# Convert the results to a pandas DataFrame\u001b[39;00m\n\u001b[1;32m      8\u001b[0m pd_counts \u001b[38;5;241m=\u001b[39m flight_counts\u001b[38;5;241m.\u001b[39mtoPandas()\n",
      "\u001b[0;31mNameError\u001b[0m: name 'spark' is not defined"
     ]
    }
   ],
   "source": [
    "# Don't change this query\n",
    "query = \"SELECT origin, dest, COUNT(*) as N FROM flights GROUP BY origin, dest\"\n",
    "\n",
    "# Run the query\n",
    "flight_counts = spark.sql(query)\n",
    "\n",
    "# Convert the results to a pandas DataFrame\n",
    "pd_counts = flight_counts.toPandas()\n",
    "\n",
    "# Print the head of pd_counts\n",
    "print(pd_counts.head())"
   ]
  },
  {
   "cell_type": "markdown",
   "id": "335951e7-c5c8-42f5-b0df-5f854406bd82",
   "metadata": {},
   "source": [
    "## Put some Spark in your data\n"
   ]
  },
  {
   "cell_type": "markdown",
   "id": "f20816ad-84ed-46ea-b45b-81bb267a2895",
   "metadata": {},
   "source": [
    "Convert a pandas dataframe to the Pyspark Dataframe"
   ]
  },
  {
   "cell_type": "code",
   "execution_count": 15,
   "id": "94ea4faa-8976-44f5-a251-0c4b366888f8",
   "metadata": {},
   "outputs": [],
   "source": [
    "import pandas as pd\n",
    "import numpy as np"
   ]
  },
  {
   "cell_type": "code",
   "execution_count": 16,
   "id": "9cd02141-a898-4718-8c15-50b946c80a61",
   "metadata": {},
   "outputs": [
    {
     "name": "stderr",
     "output_type": "stream",
     "text": [
      "/Users/s0a067b/anaconda3/envs/pg_env/lib/python3.9/site-packages/pyspark/sql/pandas/conversion.py:485: FutureWarning: is_datetime64tz_dtype is deprecated and will be removed in a future version. Check `isinstance(dtype, pd.DatetimeTZDtype)` instead.\n",
      "  if should_localize and is_datetime64tz_dtype(s.dtype) and s.dt.tz is not None:\n"
     ]
    },
    {
     "name": "stdout",
     "output_type": "stream",
     "text": [
      "[Table(name='flights', catalog=None, namespace=[], description=None, tableType='TEMPORARY', isTemporary=True)]\n",
      "[Table(name='flights', catalog=None, namespace=[], description=None, tableType='TEMPORARY', isTemporary=True), Table(name='temp', catalog=None, namespace=[], description=None, tableType='TEMPORARY', isTemporary=True)]\n"
     ]
    }
   ],
   "source": [
    "# Create pd_temp\n",
    "pd_temp = pd.DataFrame(np.random.random(10))\n",
    "\n",
    "# Create spark_temp from pd_temp\n",
    "spark_temp = spark.createDataFrame(pd_temp)\n",
    "\n",
    "# Examine the tables in the catalog\n",
    "print(spark.catalog.listTables())\n",
    "\n",
    "# Add spark_temp to the catalog\n",
    "spark_temp.createOrReplaceTempView('temp')\n",
    "\n",
    "# Examine the tables in the catalog again\n",
    "print(spark.catalog.listTables())"
   ]
  },
  {
   "cell_type": "markdown",
   "id": "bee90468-4328-4952-a659-bf3ceeb4687e",
   "metadata": {},
   "source": [
    "## Droppng the middle man\n"
   ]
  },
  {
   "cell_type": "code",
   "execution_count": 17,
   "id": "6815818d-bfe3-4ff2-a488-7d54da656915",
   "metadata": {},
   "outputs": [
    {
     "name": "stdout",
     "output_type": "stream",
     "text": [
      "+---+--------------------+------------------+-------------------+----+---+---+-------------------+\n",
      "|faa|                name|               lat|                lon| alt| tz|dst|              tzone|\n",
      "+---+--------------------+------------------+-------------------+----+---+---+-------------------+\n",
      "|04G|   Lansdowne Airport|        41.1304722|        -80.6195833|1044| -5|  A|   America/New_York|\n",
      "|06A|Moton Field Munic...|        32.4605722|        -85.6800278| 264| -6|  A|    America/Chicago|\n",
      "|06C| Schaumburg Regional|        41.9893408|        -88.1012428| 801| -6|  A|    America/Chicago|\n",
      "|06N|     Randall Airport|         41.431912|        -74.3915611| 523| -5|  A|   America/New_York|\n",
      "|09J|Jekyll Island Air...|        31.0744722|        -81.4277778|  11| -5|  A|   America/New_York|\n",
      "|0A9|Elizabethton Muni...|        36.3712222|        -82.1734167|1593| -5|  A|   America/New_York|\n",
      "|0G6|Williams County A...|        41.4673056|        -84.5067778| 730| -5|  A|   America/New_York|\n",
      "|0G7|Finger Lakes Regi...|        42.8835647|        -76.7812318| 492| -5|  A|   America/New_York|\n",
      "|0P2|Shoestring Aviati...|        39.7948244|        -76.6471914|1000| -5|  U|   America/New_York|\n",
      "|0S9|Jefferson County ...|48.053808600000004|       -122.8106436| 108| -8|  A|America/Los_Angeles|\n",
      "|0W3|Harford County Ai...|        39.5668378|        -76.2024028| 409| -5|  A|   America/New_York|\n",
      "|10C|  Galt Field Airport|        42.4028889|        -88.3751111| 875| -6|  U|    America/Chicago|\n",
      "|17G|Port Bucyrus-Craw...|        40.7815556|        -82.9748056|1003| -5|  A|   America/New_York|\n",
      "|19A|Jackson County Ai...|        34.1758638|        -83.5615972| 951| -5|  U|   America/New_York|\n",
      "|1A3|Martin Campbell F...|        35.0158056|        -84.3468333|1789| -5|  A|   America/New_York|\n",
      "|1B9| Mansfield Municipal|        42.0001331|        -71.1967714| 122| -5|  A|   America/New_York|\n",
      "|1C9|Frazier Lake Airpark|54.013333333333335|-124.76833333333333| 152| -8|  A|  America/Vancouver|\n",
      "|1CS|Clow Internationa...|        41.6959744|        -88.1292306| 670| -6|  U|    America/Chicago|\n",
      "|1G3|  Kent State Airport|        41.1513889|        -81.4151111|1134| -5|  A|   America/New_York|\n",
      "|1G4|Grand Canyon West...|         35.899904|        -113.815674|4813| -7|  A|    America/Phoenix|\n",
      "+---+--------------------+------------------+-------------------+----+---+---+-------------------+\n",
      "only showing top 20 rows\n",
      "\n"
     ]
    }
   ],
   "source": [
    "# Don't change this file path\n",
    "file_path = \"airports.csv\"\n",
    "\n",
    "# Read in the airports data\n",
    "airports = spark.read.csv(file_path, header=True)\n",
    "\n",
    "# Show the data\n",
    "airports.show()"
   ]
  },
  {
   "cell_type": "code",
   "execution_count": 18,
   "id": "e98908da-18db-42fe-82c5-ea79c6e356ad",
   "metadata": {},
   "outputs": [],
   "source": [
    "for col in airports.columns:\n",
    "    airports = airports.withColumnRenamed(col, col.lower())"
   ]
  },
  {
   "cell_type": "code",
   "execution_count": 19,
   "id": "d3b21ea7-eb49-40d1-9db7-ebe76342b366",
   "metadata": {},
   "outputs": [
    {
     "name": "stdout",
     "output_type": "stream",
     "text": [
      "+---+--------------------+------------------+-------------------+----+---+---+-------------------+\n",
      "|faa|                name|               lat|                lon| alt| tz|dst|              tzone|\n",
      "+---+--------------------+------------------+-------------------+----+---+---+-------------------+\n",
      "|04G|   Lansdowne Airport|        41.1304722|        -80.6195833|1044| -5|  A|   America/New_York|\n",
      "|06A|Moton Field Munic...|        32.4605722|        -85.6800278| 264| -6|  A|    America/Chicago|\n",
      "|06C| Schaumburg Regional|        41.9893408|        -88.1012428| 801| -6|  A|    America/Chicago|\n",
      "|06N|     Randall Airport|         41.431912|        -74.3915611| 523| -5|  A|   America/New_York|\n",
      "|09J|Jekyll Island Air...|        31.0744722|        -81.4277778|  11| -5|  A|   America/New_York|\n",
      "|0A9|Elizabethton Muni...|        36.3712222|        -82.1734167|1593| -5|  A|   America/New_York|\n",
      "|0G6|Williams County A...|        41.4673056|        -84.5067778| 730| -5|  A|   America/New_York|\n",
      "|0G7|Finger Lakes Regi...|        42.8835647|        -76.7812318| 492| -5|  A|   America/New_York|\n",
      "|0P2|Shoestring Aviati...|        39.7948244|        -76.6471914|1000| -5|  U|   America/New_York|\n",
      "|0S9|Jefferson County ...|48.053808600000004|       -122.8106436| 108| -8|  A|America/Los_Angeles|\n",
      "|0W3|Harford County Ai...|        39.5668378|        -76.2024028| 409| -5|  A|   America/New_York|\n",
      "|10C|  Galt Field Airport|        42.4028889|        -88.3751111| 875| -6|  U|    America/Chicago|\n",
      "|17G|Port Bucyrus-Craw...|        40.7815556|        -82.9748056|1003| -5|  A|   America/New_York|\n",
      "|19A|Jackson County Ai...|        34.1758638|        -83.5615972| 951| -5|  U|   America/New_York|\n",
      "|1A3|Martin Campbell F...|        35.0158056|        -84.3468333|1789| -5|  A|   America/New_York|\n",
      "|1B9| Mansfield Municipal|        42.0001331|        -71.1967714| 122| -5|  A|   America/New_York|\n",
      "|1C9|Frazier Lake Airpark|54.013333333333335|-124.76833333333333| 152| -8|  A|  America/Vancouver|\n",
      "|1CS|Clow Internationa...|        41.6959744|        -88.1292306| 670| -6|  U|    America/Chicago|\n",
      "|1G3|  Kent State Airport|        41.1513889|        -81.4151111|1134| -5|  A|   America/New_York|\n",
      "|1G4|Grand Canyon West...|         35.899904|        -113.815674|4813| -7|  A|    America/Phoenix|\n",
      "+---+--------------------+------------------+-------------------+----+---+---+-------------------+\n",
      "only showing top 20 rows\n",
      "\n"
     ]
    }
   ],
   "source": [
    "airports.show()"
   ]
  },
  {
   "cell_type": "code",
   "execution_count": 20,
   "id": "ff8df231-5de6-4e1e-959e-17c2199ab7c7",
   "metadata": {},
   "outputs": [
    {
     "name": "stdout",
     "output_type": "stream",
     "text": [
      "+----+-----+---+-----------+-------+-------------+-------+------+----+-------------------+--------------+---------+--------+----------+--------------+------------+--------+--------+---------+-------+-----------------+------------+---------+--------+---------+-------------------+----------------+--------------+-------------+-------------------+-------------+\n",
      "|year|month|day|day_of_week|carrier|flight_number|tailnum|origin|dest|scheduled_departure|departure_time|dep_delay|taxi_out|wheels_off|scheduled_time|elapsed_time|air_time|distance|wheels_on|taxi_in|scheduled_arrival|arrival_time|arr_delay|diverted|cancelled|cancellation_reason|air_system_delay|security_delay|airline_delay|late_aircraft_delay|weather_delay|\n",
      "+----+-----+---+-----------+-------+-------------+-------+------+----+-------------------+--------------+---------+--------+----------+--------------+------------+--------+--------+---------+-------+-----------------+------------+---------+--------+---------+-------------------+----------------+--------------+-------------+-------------------+-------------+\n",
      "|2015|    1|  1|          4|     AS|           98| N407AS|   ANC| SEA|               0005|          2354|      -11|      21|      0015|           205|         194|     169|    1448|     0404|      4|             0430|        0408|      -22|       0|        0|               NULL|            NULL|          NULL|         NULL|               NULL|         NULL|\n",
      "|2015|    1|  1|          4|     AA|         2336| N3KUAA|   LAX| PBI|               0010|          0002|       -8|      12|      0014|           280|         279|     263|    2330|     0737|      4|             0750|        0741|       -9|       0|        0|               NULL|            NULL|          NULL|         NULL|               NULL|         NULL|\n",
      "|2015|    1|  1|          4|     US|          840| N171US|   SFO| CLT|               0020|          0018|       -2|      16|      0034|           286|         293|     266|    2296|     0800|     11|             0806|        0811|        5|       0|        0|               NULL|            NULL|          NULL|         NULL|               NULL|         NULL|\n",
      "|2015|    1|  1|          4|     AA|          258| N3HYAA|   LAX| MIA|               0020|          0015|       -5|      15|      0030|           285|         281|     258|    2342|     0748|      8|             0805|        0756|       -9|       0|        0|               NULL|            NULL|          NULL|         NULL|               NULL|         NULL|\n",
      "|2015|    1|  1|          4|     AS|          135| N527AS|   SEA| ANC|               0025|          0024|       -1|      11|      0035|           235|         215|     199|    1448|     0254|      5|             0320|        0259|      -21|       0|        0|               NULL|            NULL|          NULL|         NULL|               NULL|         NULL|\n",
      "|2015|    1|  1|          4|     DL|          806| N3730B|   SFO| MSP|               0025|          0020|       -5|      18|      0038|           217|         230|     206|    1589|     0604|      6|             0602|        0610|        8|       0|        0|               NULL|            NULL|          NULL|         NULL|               NULL|         NULL|\n",
      "|2015|    1|  1|          4|     NK|          612| N635NK|   LAS| MSP|               0025|          0019|       -6|      11|      0030|           181|         170|     154|    1299|     0504|      5|             0526|        0509|      -17|       0|        0|               NULL|            NULL|          NULL|         NULL|               NULL|         NULL|\n",
      "|2015|    1|  1|          4|     US|         2013| N584UW|   LAX| CLT|               0030|          0044|       14|      13|      0057|           273|         249|     228|    2125|     0745|      8|             0803|        0753|      -10|       0|        0|               NULL|            NULL|          NULL|         NULL|               NULL|         NULL|\n",
      "|2015|    1|  1|          4|     AA|         1112| N3LAAA|   SFO| DFW|               0030|          0019|      -11|      17|      0036|           195|         193|     173|    1464|     0529|      3|             0545|        0532|      -13|       0|        0|               NULL|            NULL|          NULL|         NULL|               NULL|         NULL|\n",
      "|2015|    1|  1|          4|     DL|         1173| N826DN|   LAS| ATL|               0030|          0033|        3|      12|      0045|           221|         203|     186|    1747|     0651|      5|             0711|        0656|      -15|       0|        0|               NULL|            NULL|          NULL|         NULL|               NULL|         NULL|\n",
      "|2015|    1|  1|          4|     DL|         2336| N958DN|   DEN| ATL|               0030|          0024|       -6|      12|      0036|           173|         149|     133|    1199|     0449|      4|             0523|        0453|      -30|       0|        0|               NULL|            NULL|          NULL|         NULL|               NULL|         NULL|\n",
      "|2015|    1|  1|          4|     AA|         1674| N853AA|   LAS| MIA|               0035|          0027|       -8|      21|      0048|           268|         266|     238|    2174|     0746|      7|             0803|        0753|      -10|       0|        0|               NULL|            NULL|          NULL|         NULL|               NULL|         NULL|\n",
      "|2015|    1|  1|          4|     DL|         1434| N547US|   LAX| MSP|               0035|          0035|        0|      18|      0053|           214|         210|     188|    1535|     0601|      4|             0609|        0605|       -4|       0|        0|               NULL|            NULL|          NULL|         NULL|               NULL|         NULL|\n",
      "|2015|    1|  1|          4|     DL|         2324| N3751B|   SLC| ATL|               0040|          0034|       -6|      18|      0052|           215|         199|     176|    1590|     0548|      5|             0615|        0553|      -22|       0|        0|               NULL|            NULL|          NULL|         NULL|               NULL|         NULL|\n",
      "|2015|    1|  1|          4|     DL|         2440| N651DL|   SEA| MSP|               0040|          0039|       -1|      28|      0107|           189|         198|     166|    1399|     0553|      4|             0549|        0557|        8|       0|        0|               NULL|            NULL|          NULL|         NULL|               NULL|         NULL|\n",
      "|2015|    1|  1|          4|     AS|          108| N309AS|   ANC| SEA|               0045|          0041|       -4|      17|      0058|           204|         194|     173|    1448|     0451|      4|             0509|        0455|      -14|       0|        0|               NULL|            NULL|          NULL|         NULL|               NULL|         NULL|\n",
      "|2015|    1|  1|          4|     DL|         1560| N3743H|   ANC| SEA|               0045|          0031|      -14|      25|      0056|           210|         200|     171|    1448|     0447|      4|             0515|        0451|      -24|       0|        0|               NULL|            NULL|          NULL|         NULL|               NULL|         NULL|\n",
      "|2015|    1|  1|          4|     UA|         1197| N78448|   SFO| IAH|               0048|          0042|       -6|      11|      0053|           218|         217|     199|    1635|     0612|      7|             0626|        0619|       -7|       0|        0|               NULL|            NULL|          NULL|         NULL|               NULL|         NULL|\n",
      "|2015|    1|  1|          4|     AS|          122| N413AS|   ANC| PDX|               0050|          0046|       -4|      11|      0057|           215|         201|     187|    1542|     0504|      3|             0525|        0507|      -18|       0|        0|               NULL|            NULL|          NULL|         NULL|               NULL|         NULL|\n",
      "|2015|    1|  1|          4|     DL|         1670| N806DN|   PDX| MSP|               0050|          0045|       -5|       9|      0054|           193|         186|     171|    1426|     0545|      6|             0603|        0551|      -12|       0|        0|               NULL|            NULL|          NULL|         NULL|               NULL|         NULL|\n",
      "+----+-----+---+-----------+-------+-------------+-------+------+----+-------------------+--------------+---------+--------+----------+--------------+------------+--------+--------+---------+-------+-----------------+------------+---------+--------+---------+-------------------+----------------+--------------+-------------+-------------------+-------------+\n",
      "only showing top 20 rows\n",
      "\n"
     ]
    }
   ],
   "source": [
    "flights.show()"
   ]
  },
  {
   "cell_type": "markdown",
   "id": "e1a891f6-f51f-4b8d-a115-14ffbd210310",
   "metadata": {},
   "source": [
    "# Manipulating data"
   ]
  },
  {
   "cell_type": "markdown",
   "id": "8459bfea-c703-4b19-a540-7be454bc7fe6",
   "metadata": {},
   "source": [
    "## Creating Columns"
   ]
  },
  {
   "cell_type": "code",
   "execution_count": 21,
   "id": "1302acbb-5dfe-4fb0-acaa-08be7eabf0c2",
   "metadata": {},
   "outputs": [
    {
     "name": "stdout",
     "output_type": "stream",
     "text": [
      "+----+-----+---+-----------+-------+-------------+-------+------+----+-------------------+--------------+---------+--------+----------+--------------+------------+--------+--------+---------+-------+-----------------+------------+---------+--------+---------+-------------------+----------------+--------------+-------------+-------------------+-------------+\n",
      "|year|month|day|day_of_week|carrier|flight_number|tailnum|origin|dest|scheduled_departure|departure_time|dep_delay|taxi_out|wheels_off|scheduled_time|elapsed_time|air_time|distance|wheels_on|taxi_in|scheduled_arrival|arrival_time|arr_delay|diverted|cancelled|cancellation_reason|air_system_delay|security_delay|airline_delay|late_aircraft_delay|weather_delay|\n",
      "+----+-----+---+-----------+-------+-------------+-------+------+----+-------------------+--------------+---------+--------+----------+--------------+------------+--------+--------+---------+-------+-----------------+------------+---------+--------+---------+-------------------+----------------+--------------+-------------+-------------------+-------------+\n",
      "|2015|    1|  1|          4|     AS|           98| N407AS|   ANC| SEA|               0005|          2354|      -11|      21|      0015|           205|         194|     169|    1448|     0404|      4|             0430|        0408|      -22|       0|        0|               NULL|            NULL|          NULL|         NULL|               NULL|         NULL|\n",
      "|2015|    1|  1|          4|     AA|         2336| N3KUAA|   LAX| PBI|               0010|          0002|       -8|      12|      0014|           280|         279|     263|    2330|     0737|      4|             0750|        0741|       -9|       0|        0|               NULL|            NULL|          NULL|         NULL|               NULL|         NULL|\n",
      "|2015|    1|  1|          4|     US|          840| N171US|   SFO| CLT|               0020|          0018|       -2|      16|      0034|           286|         293|     266|    2296|     0800|     11|             0806|        0811|        5|       0|        0|               NULL|            NULL|          NULL|         NULL|               NULL|         NULL|\n",
      "|2015|    1|  1|          4|     AA|          258| N3HYAA|   LAX| MIA|               0020|          0015|       -5|      15|      0030|           285|         281|     258|    2342|     0748|      8|             0805|        0756|       -9|       0|        0|               NULL|            NULL|          NULL|         NULL|               NULL|         NULL|\n",
      "|2015|    1|  1|          4|     AS|          135| N527AS|   SEA| ANC|               0025|          0024|       -1|      11|      0035|           235|         215|     199|    1448|     0254|      5|             0320|        0259|      -21|       0|        0|               NULL|            NULL|          NULL|         NULL|               NULL|         NULL|\n",
      "|2015|    1|  1|          4|     DL|          806| N3730B|   SFO| MSP|               0025|          0020|       -5|      18|      0038|           217|         230|     206|    1589|     0604|      6|             0602|        0610|        8|       0|        0|               NULL|            NULL|          NULL|         NULL|               NULL|         NULL|\n",
      "|2015|    1|  1|          4|     NK|          612| N635NK|   LAS| MSP|               0025|          0019|       -6|      11|      0030|           181|         170|     154|    1299|     0504|      5|             0526|        0509|      -17|       0|        0|               NULL|            NULL|          NULL|         NULL|               NULL|         NULL|\n",
      "|2015|    1|  1|          4|     US|         2013| N584UW|   LAX| CLT|               0030|          0044|       14|      13|      0057|           273|         249|     228|    2125|     0745|      8|             0803|        0753|      -10|       0|        0|               NULL|            NULL|          NULL|         NULL|               NULL|         NULL|\n",
      "|2015|    1|  1|          4|     AA|         1112| N3LAAA|   SFO| DFW|               0030|          0019|      -11|      17|      0036|           195|         193|     173|    1464|     0529|      3|             0545|        0532|      -13|       0|        0|               NULL|            NULL|          NULL|         NULL|               NULL|         NULL|\n",
      "|2015|    1|  1|          4|     DL|         1173| N826DN|   LAS| ATL|               0030|          0033|        3|      12|      0045|           221|         203|     186|    1747|     0651|      5|             0711|        0656|      -15|       0|        0|               NULL|            NULL|          NULL|         NULL|               NULL|         NULL|\n",
      "|2015|    1|  1|          4|     DL|         2336| N958DN|   DEN| ATL|               0030|          0024|       -6|      12|      0036|           173|         149|     133|    1199|     0449|      4|             0523|        0453|      -30|       0|        0|               NULL|            NULL|          NULL|         NULL|               NULL|         NULL|\n",
      "|2015|    1|  1|          4|     AA|         1674| N853AA|   LAS| MIA|               0035|          0027|       -8|      21|      0048|           268|         266|     238|    2174|     0746|      7|             0803|        0753|      -10|       0|        0|               NULL|            NULL|          NULL|         NULL|               NULL|         NULL|\n",
      "|2015|    1|  1|          4|     DL|         1434| N547US|   LAX| MSP|               0035|          0035|        0|      18|      0053|           214|         210|     188|    1535|     0601|      4|             0609|        0605|       -4|       0|        0|               NULL|            NULL|          NULL|         NULL|               NULL|         NULL|\n",
      "|2015|    1|  1|          4|     DL|         2324| N3751B|   SLC| ATL|               0040|          0034|       -6|      18|      0052|           215|         199|     176|    1590|     0548|      5|             0615|        0553|      -22|       0|        0|               NULL|            NULL|          NULL|         NULL|               NULL|         NULL|\n",
      "|2015|    1|  1|          4|     DL|         2440| N651DL|   SEA| MSP|               0040|          0039|       -1|      28|      0107|           189|         198|     166|    1399|     0553|      4|             0549|        0557|        8|       0|        0|               NULL|            NULL|          NULL|         NULL|               NULL|         NULL|\n",
      "|2015|    1|  1|          4|     AS|          108| N309AS|   ANC| SEA|               0045|          0041|       -4|      17|      0058|           204|         194|     173|    1448|     0451|      4|             0509|        0455|      -14|       0|        0|               NULL|            NULL|          NULL|         NULL|               NULL|         NULL|\n",
      "|2015|    1|  1|          4|     DL|         1560| N3743H|   ANC| SEA|               0045|          0031|      -14|      25|      0056|           210|         200|     171|    1448|     0447|      4|             0515|        0451|      -24|       0|        0|               NULL|            NULL|          NULL|         NULL|               NULL|         NULL|\n",
      "|2015|    1|  1|          4|     UA|         1197| N78448|   SFO| IAH|               0048|          0042|       -6|      11|      0053|           218|         217|     199|    1635|     0612|      7|             0626|        0619|       -7|       0|        0|               NULL|            NULL|          NULL|         NULL|               NULL|         NULL|\n",
      "|2015|    1|  1|          4|     AS|          122| N413AS|   ANC| PDX|               0050|          0046|       -4|      11|      0057|           215|         201|     187|    1542|     0504|      3|             0525|        0507|      -18|       0|        0|               NULL|            NULL|          NULL|         NULL|               NULL|         NULL|\n",
      "|2015|    1|  1|          4|     DL|         1670| N806DN|   PDX| MSP|               0050|          0045|       -5|       9|      0054|           193|         186|     171|    1426|     0545|      6|             0603|        0551|      -12|       0|        0|               NULL|            NULL|          NULL|         NULL|               NULL|         NULL|\n",
      "+----+-----+---+-----------+-------+-------------+-------+------+----+-------------------+--------------+---------+--------+----------+--------------+------------+--------+--------+---------+-------+-----------------+------------+---------+--------+---------+-------------------+----------------+--------------+-------------+-------------------+-------------+\n",
      "only showing top 20 rows\n",
      "\n"
     ]
    }
   ],
   "source": [
    "# Create the DataFrame flights\n",
    "flights = spark.table(\"flights\")\n",
    "\n",
    "# Show the head\n",
    "flights.show()\n",
    "\n",
    "# Add duration_hrs\n",
    "flights = flights.withColumn(\"duration_hrs\", flights.air_time/60)"
   ]
  },
  {
   "cell_type": "code",
   "execution_count": 22,
   "id": "6213c671-15c5-451d-8799-18e7a90b5ac0",
   "metadata": {},
   "outputs": [
    {
     "name": "stdout",
     "output_type": "stream",
     "text": [
      "+----+-----+---+-----------+-------+-------------+-------+------+----+-------------------+--------------+---------+--------+----------+--------------+------------+--------+--------+---------+-------+-----------------+------------+---------+--------+---------+-------------------+----------------+--------------+-------------+-------------------+-------------+------------------+\n",
      "|year|month|day|day_of_week|carrier|flight_number|tailnum|origin|dest|scheduled_departure|departure_time|dep_delay|taxi_out|wheels_off|scheduled_time|elapsed_time|air_time|distance|wheels_on|taxi_in|scheduled_arrival|arrival_time|arr_delay|diverted|cancelled|cancellation_reason|air_system_delay|security_delay|airline_delay|late_aircraft_delay|weather_delay|      duration_hrs|\n",
      "+----+-----+---+-----------+-------+-------------+-------+------+----+-------------------+--------------+---------+--------+----------+--------------+------------+--------+--------+---------+-------+-----------------+------------+---------+--------+---------+-------------------+----------------+--------------+-------------+-------------------+-------------+------------------+\n",
      "|2015|    1|  1|          4|     AS|           98| N407AS|   ANC| SEA|               0005|          2354|      -11|      21|      0015|           205|         194|     169|    1448|     0404|      4|             0430|        0408|      -22|       0|        0|               NULL|            NULL|          NULL|         NULL|               NULL|         NULL| 2.816666666666667|\n",
      "|2015|    1|  1|          4|     AA|         2336| N3KUAA|   LAX| PBI|               0010|          0002|       -8|      12|      0014|           280|         279|     263|    2330|     0737|      4|             0750|        0741|       -9|       0|        0|               NULL|            NULL|          NULL|         NULL|               NULL|         NULL| 4.383333333333334|\n",
      "|2015|    1|  1|          4|     US|          840| N171US|   SFO| CLT|               0020|          0018|       -2|      16|      0034|           286|         293|     266|    2296|     0800|     11|             0806|        0811|        5|       0|        0|               NULL|            NULL|          NULL|         NULL|               NULL|         NULL| 4.433333333333334|\n",
      "|2015|    1|  1|          4|     AA|          258| N3HYAA|   LAX| MIA|               0020|          0015|       -5|      15|      0030|           285|         281|     258|    2342|     0748|      8|             0805|        0756|       -9|       0|        0|               NULL|            NULL|          NULL|         NULL|               NULL|         NULL|               4.3|\n",
      "|2015|    1|  1|          4|     AS|          135| N527AS|   SEA| ANC|               0025|          0024|       -1|      11|      0035|           235|         215|     199|    1448|     0254|      5|             0320|        0259|      -21|       0|        0|               NULL|            NULL|          NULL|         NULL|               NULL|         NULL| 3.316666666666667|\n",
      "|2015|    1|  1|          4|     DL|          806| N3730B|   SFO| MSP|               0025|          0020|       -5|      18|      0038|           217|         230|     206|    1589|     0604|      6|             0602|        0610|        8|       0|        0|               NULL|            NULL|          NULL|         NULL|               NULL|         NULL| 3.433333333333333|\n",
      "|2015|    1|  1|          4|     NK|          612| N635NK|   LAS| MSP|               0025|          0019|       -6|      11|      0030|           181|         170|     154|    1299|     0504|      5|             0526|        0509|      -17|       0|        0|               NULL|            NULL|          NULL|         NULL|               NULL|         NULL| 2.566666666666667|\n",
      "|2015|    1|  1|          4|     US|         2013| N584UW|   LAX| CLT|               0030|          0044|       14|      13|      0057|           273|         249|     228|    2125|     0745|      8|             0803|        0753|      -10|       0|        0|               NULL|            NULL|          NULL|         NULL|               NULL|         NULL|               3.8|\n",
      "|2015|    1|  1|          4|     AA|         1112| N3LAAA|   SFO| DFW|               0030|          0019|      -11|      17|      0036|           195|         193|     173|    1464|     0529|      3|             0545|        0532|      -13|       0|        0|               NULL|            NULL|          NULL|         NULL|               NULL|         NULL|2.8833333333333333|\n",
      "|2015|    1|  1|          4|     DL|         1173| N826DN|   LAS| ATL|               0030|          0033|        3|      12|      0045|           221|         203|     186|    1747|     0651|      5|             0711|        0656|      -15|       0|        0|               NULL|            NULL|          NULL|         NULL|               NULL|         NULL|               3.1|\n",
      "|2015|    1|  1|          4|     DL|         2336| N958DN|   DEN| ATL|               0030|          0024|       -6|      12|      0036|           173|         149|     133|    1199|     0449|      4|             0523|        0453|      -30|       0|        0|               NULL|            NULL|          NULL|         NULL|               NULL|         NULL| 2.216666666666667|\n",
      "|2015|    1|  1|          4|     AA|         1674| N853AA|   LAS| MIA|               0035|          0027|       -8|      21|      0048|           268|         266|     238|    2174|     0746|      7|             0803|        0753|      -10|       0|        0|               NULL|            NULL|          NULL|         NULL|               NULL|         NULL| 3.966666666666667|\n",
      "|2015|    1|  1|          4|     DL|         1434| N547US|   LAX| MSP|               0035|          0035|        0|      18|      0053|           214|         210|     188|    1535|     0601|      4|             0609|        0605|       -4|       0|        0|               NULL|            NULL|          NULL|         NULL|               NULL|         NULL|3.1333333333333333|\n",
      "|2015|    1|  1|          4|     DL|         2324| N3751B|   SLC| ATL|               0040|          0034|       -6|      18|      0052|           215|         199|     176|    1590|     0548|      5|             0615|        0553|      -22|       0|        0|               NULL|            NULL|          NULL|         NULL|               NULL|         NULL| 2.933333333333333|\n",
      "|2015|    1|  1|          4|     DL|         2440| N651DL|   SEA| MSP|               0040|          0039|       -1|      28|      0107|           189|         198|     166|    1399|     0553|      4|             0549|        0557|        8|       0|        0|               NULL|            NULL|          NULL|         NULL|               NULL|         NULL|2.7666666666666666|\n",
      "|2015|    1|  1|          4|     AS|          108| N309AS|   ANC| SEA|               0045|          0041|       -4|      17|      0058|           204|         194|     173|    1448|     0451|      4|             0509|        0455|      -14|       0|        0|               NULL|            NULL|          NULL|         NULL|               NULL|         NULL|2.8833333333333333|\n",
      "|2015|    1|  1|          4|     DL|         1560| N3743H|   ANC| SEA|               0045|          0031|      -14|      25|      0056|           210|         200|     171|    1448|     0447|      4|             0515|        0451|      -24|       0|        0|               NULL|            NULL|          NULL|         NULL|               NULL|         NULL|              2.85|\n",
      "|2015|    1|  1|          4|     UA|         1197| N78448|   SFO| IAH|               0048|          0042|       -6|      11|      0053|           218|         217|     199|    1635|     0612|      7|             0626|        0619|       -7|       0|        0|               NULL|            NULL|          NULL|         NULL|               NULL|         NULL| 3.316666666666667|\n",
      "|2015|    1|  1|          4|     AS|          122| N413AS|   ANC| PDX|               0050|          0046|       -4|      11|      0057|           215|         201|     187|    1542|     0504|      3|             0525|        0507|      -18|       0|        0|               NULL|            NULL|          NULL|         NULL|               NULL|         NULL|3.1166666666666667|\n",
      "|2015|    1|  1|          4|     DL|         1670| N806DN|   PDX| MSP|               0050|          0045|       -5|       9|      0054|           193|         186|     171|    1426|     0545|      6|             0603|        0551|      -12|       0|        0|               NULL|            NULL|          NULL|         NULL|               NULL|         NULL|              2.85|\n",
      "+----+-----+---+-----------+-------+-------------+-------+------+----+-------------------+--------------+---------+--------+----------+--------------+------------+--------+--------+---------+-------+-----------------+------------+---------+--------+---------+-------------------+----------------+--------------+-------------+-------------------+-------------+------------------+\n",
      "only showing top 20 rows\n",
      "\n"
     ]
    }
   ],
   "source": [
    "flights.show()"
   ]
  },
  {
   "cell_type": "markdown",
   "id": "367a7cbe-f7ad-4146-82e1-5231c05c2dce",
   "metadata": {},
   "source": [
    "## Filtering Data"
   ]
  },
  {
   "cell_type": "code",
   "execution_count": 23,
   "id": "46da1313-0aba-4785-a450-9881483c123b",
   "metadata": {},
   "outputs": [
    {
     "name": "stdout",
     "output_type": "stream",
     "text": [
      "+----+-----+---+-----------+-------+-------------+-------+------+----+-------------------+--------------+---------+--------+----------+--------------+------------+--------+--------+---------+-------+-----------------+------------+---------+--------+---------+-------------------+----------------+--------------+-------------+-------------------+-------------+------------------+\n",
      "|year|month|day|day_of_week|carrier|flight_number|tailnum|origin|dest|scheduled_departure|departure_time|dep_delay|taxi_out|wheels_off|scheduled_time|elapsed_time|air_time|distance|wheels_on|taxi_in|scheduled_arrival|arrival_time|arr_delay|diverted|cancelled|cancellation_reason|air_system_delay|security_delay|airline_delay|late_aircraft_delay|weather_delay|      duration_hrs|\n",
      "+----+-----+---+-----------+-------+-------------+-------+------+----+-------------------+--------------+---------+--------+----------+--------------+------------+--------+--------+---------+-------+-----------------+------------+---------+--------+---------+-------------------+----------------+--------------+-------------+-------------------+-------------+------------------+\n",
      "|2015|    1|  1|          4|     AS|           98| N407AS|   ANC| SEA|               0005|          2354|      -11|      21|      0015|           205|         194|     169|    1448|     0404|      4|             0430|        0408|      -22|       0|        0|               NULL|            NULL|          NULL|         NULL|               NULL|         NULL| 2.816666666666667|\n",
      "|2015|    1|  1|          4|     AA|         2336| N3KUAA|   LAX| PBI|               0010|          0002|       -8|      12|      0014|           280|         279|     263|    2330|     0737|      4|             0750|        0741|       -9|       0|        0|               NULL|            NULL|          NULL|         NULL|               NULL|         NULL| 4.383333333333334|\n",
      "|2015|    1|  1|          4|     US|          840| N171US|   SFO| CLT|               0020|          0018|       -2|      16|      0034|           286|         293|     266|    2296|     0800|     11|             0806|        0811|        5|       0|        0|               NULL|            NULL|          NULL|         NULL|               NULL|         NULL| 4.433333333333334|\n",
      "|2015|    1|  1|          4|     AA|          258| N3HYAA|   LAX| MIA|               0020|          0015|       -5|      15|      0030|           285|         281|     258|    2342|     0748|      8|             0805|        0756|       -9|       0|        0|               NULL|            NULL|          NULL|         NULL|               NULL|         NULL|               4.3|\n",
      "|2015|    1|  1|          4|     AS|          135| N527AS|   SEA| ANC|               0025|          0024|       -1|      11|      0035|           235|         215|     199|    1448|     0254|      5|             0320|        0259|      -21|       0|        0|               NULL|            NULL|          NULL|         NULL|               NULL|         NULL| 3.316666666666667|\n",
      "|2015|    1|  1|          4|     DL|          806| N3730B|   SFO| MSP|               0025|          0020|       -5|      18|      0038|           217|         230|     206|    1589|     0604|      6|             0602|        0610|        8|       0|        0|               NULL|            NULL|          NULL|         NULL|               NULL|         NULL| 3.433333333333333|\n",
      "|2015|    1|  1|          4|     NK|          612| N635NK|   LAS| MSP|               0025|          0019|       -6|      11|      0030|           181|         170|     154|    1299|     0504|      5|             0526|        0509|      -17|       0|        0|               NULL|            NULL|          NULL|         NULL|               NULL|         NULL| 2.566666666666667|\n",
      "|2015|    1|  1|          4|     US|         2013| N584UW|   LAX| CLT|               0030|          0044|       14|      13|      0057|           273|         249|     228|    2125|     0745|      8|             0803|        0753|      -10|       0|        0|               NULL|            NULL|          NULL|         NULL|               NULL|         NULL|               3.8|\n",
      "|2015|    1|  1|          4|     AA|         1112| N3LAAA|   SFO| DFW|               0030|          0019|      -11|      17|      0036|           195|         193|     173|    1464|     0529|      3|             0545|        0532|      -13|       0|        0|               NULL|            NULL|          NULL|         NULL|               NULL|         NULL|2.8833333333333333|\n",
      "|2015|    1|  1|          4|     DL|         1173| N826DN|   LAS| ATL|               0030|          0033|        3|      12|      0045|           221|         203|     186|    1747|     0651|      5|             0711|        0656|      -15|       0|        0|               NULL|            NULL|          NULL|         NULL|               NULL|         NULL|               3.1|\n",
      "|2015|    1|  1|          4|     DL|         2336| N958DN|   DEN| ATL|               0030|          0024|       -6|      12|      0036|           173|         149|     133|    1199|     0449|      4|             0523|        0453|      -30|       0|        0|               NULL|            NULL|          NULL|         NULL|               NULL|         NULL| 2.216666666666667|\n",
      "|2015|    1|  1|          4|     AA|         1674| N853AA|   LAS| MIA|               0035|          0027|       -8|      21|      0048|           268|         266|     238|    2174|     0746|      7|             0803|        0753|      -10|       0|        0|               NULL|            NULL|          NULL|         NULL|               NULL|         NULL| 3.966666666666667|\n",
      "|2015|    1|  1|          4|     DL|         1434| N547US|   LAX| MSP|               0035|          0035|        0|      18|      0053|           214|         210|     188|    1535|     0601|      4|             0609|        0605|       -4|       0|        0|               NULL|            NULL|          NULL|         NULL|               NULL|         NULL|3.1333333333333333|\n",
      "|2015|    1|  1|          4|     DL|         2324| N3751B|   SLC| ATL|               0040|          0034|       -6|      18|      0052|           215|         199|     176|    1590|     0548|      5|             0615|        0553|      -22|       0|        0|               NULL|            NULL|          NULL|         NULL|               NULL|         NULL| 2.933333333333333|\n",
      "|2015|    1|  1|          4|     DL|         2440| N651DL|   SEA| MSP|               0040|          0039|       -1|      28|      0107|           189|         198|     166|    1399|     0553|      4|             0549|        0557|        8|       0|        0|               NULL|            NULL|          NULL|         NULL|               NULL|         NULL|2.7666666666666666|\n",
      "|2015|    1|  1|          4|     AS|          108| N309AS|   ANC| SEA|               0045|          0041|       -4|      17|      0058|           204|         194|     173|    1448|     0451|      4|             0509|        0455|      -14|       0|        0|               NULL|            NULL|          NULL|         NULL|               NULL|         NULL|2.8833333333333333|\n",
      "|2015|    1|  1|          4|     DL|         1560| N3743H|   ANC| SEA|               0045|          0031|      -14|      25|      0056|           210|         200|     171|    1448|     0447|      4|             0515|        0451|      -24|       0|        0|               NULL|            NULL|          NULL|         NULL|               NULL|         NULL|              2.85|\n",
      "|2015|    1|  1|          4|     UA|         1197| N78448|   SFO| IAH|               0048|          0042|       -6|      11|      0053|           218|         217|     199|    1635|     0612|      7|             0626|        0619|       -7|       0|        0|               NULL|            NULL|          NULL|         NULL|               NULL|         NULL| 3.316666666666667|\n",
      "|2015|    1|  1|          4|     AS|          122| N413AS|   ANC| PDX|               0050|          0046|       -4|      11|      0057|           215|         201|     187|    1542|     0504|      3|             0525|        0507|      -18|       0|        0|               NULL|            NULL|          NULL|         NULL|               NULL|         NULL|3.1166666666666667|\n",
      "|2015|    1|  1|          4|     DL|         1670| N806DN|   PDX| MSP|               0050|          0045|       -5|       9|      0054|           193|         186|     171|    1426|     0545|      6|             0603|        0551|      -12|       0|        0|               NULL|            NULL|          NULL|         NULL|               NULL|         NULL|              2.85|\n",
      "+----+-----+---+-----------+-------+-------------+-------+------+----+-------------------+--------------+---------+--------+----------+--------------+------------+--------+--------+---------+-------+-----------------+------------+---------+--------+---------+-------------------+----------------+--------------+-------------+-------------------+-------------+------------------+\n",
      "only showing top 20 rows\n",
      "\n",
      "+----+-----+---+-----------+-------+-------------+-------+------+----+-------------------+--------------+---------+--------+----------+--------------+------------+--------+--------+---------+-------+-----------------+------------+---------+--------+---------+-------------------+----------------+--------------+-------------+-------------------+-------------+------------------+\n",
      "|year|month|day|day_of_week|carrier|flight_number|tailnum|origin|dest|scheduled_departure|departure_time|dep_delay|taxi_out|wheels_off|scheduled_time|elapsed_time|air_time|distance|wheels_on|taxi_in|scheduled_arrival|arrival_time|arr_delay|diverted|cancelled|cancellation_reason|air_system_delay|security_delay|airline_delay|late_aircraft_delay|weather_delay|      duration_hrs|\n",
      "+----+-----+---+-----------+-------+-------------+-------+------+----+-------------------+--------------+---------+--------+----------+--------------+------------+--------+--------+---------+-------+-----------------+------------+---------+--------+---------+-------------------+----------------+--------------+-------------+-------------------+-------------+------------------+\n",
      "|2015|    1|  1|          4|     AS|           98| N407AS|   ANC| SEA|               0005|          2354|      -11|      21|      0015|           205|         194|     169|    1448|     0404|      4|             0430|        0408|      -22|       0|        0|               NULL|            NULL|          NULL|         NULL|               NULL|         NULL| 2.816666666666667|\n",
      "|2015|    1|  1|          4|     AA|         2336| N3KUAA|   LAX| PBI|               0010|          0002|       -8|      12|      0014|           280|         279|     263|    2330|     0737|      4|             0750|        0741|       -9|       0|        0|               NULL|            NULL|          NULL|         NULL|               NULL|         NULL| 4.383333333333334|\n",
      "|2015|    1|  1|          4|     US|          840| N171US|   SFO| CLT|               0020|          0018|       -2|      16|      0034|           286|         293|     266|    2296|     0800|     11|             0806|        0811|        5|       0|        0|               NULL|            NULL|          NULL|         NULL|               NULL|         NULL| 4.433333333333334|\n",
      "|2015|    1|  1|          4|     AA|          258| N3HYAA|   LAX| MIA|               0020|          0015|       -5|      15|      0030|           285|         281|     258|    2342|     0748|      8|             0805|        0756|       -9|       0|        0|               NULL|            NULL|          NULL|         NULL|               NULL|         NULL|               4.3|\n",
      "|2015|    1|  1|          4|     AS|          135| N527AS|   SEA| ANC|               0025|          0024|       -1|      11|      0035|           235|         215|     199|    1448|     0254|      5|             0320|        0259|      -21|       0|        0|               NULL|            NULL|          NULL|         NULL|               NULL|         NULL| 3.316666666666667|\n",
      "|2015|    1|  1|          4|     DL|          806| N3730B|   SFO| MSP|               0025|          0020|       -5|      18|      0038|           217|         230|     206|    1589|     0604|      6|             0602|        0610|        8|       0|        0|               NULL|            NULL|          NULL|         NULL|               NULL|         NULL| 3.433333333333333|\n",
      "|2015|    1|  1|          4|     NK|          612| N635NK|   LAS| MSP|               0025|          0019|       -6|      11|      0030|           181|         170|     154|    1299|     0504|      5|             0526|        0509|      -17|       0|        0|               NULL|            NULL|          NULL|         NULL|               NULL|         NULL| 2.566666666666667|\n",
      "|2015|    1|  1|          4|     US|         2013| N584UW|   LAX| CLT|               0030|          0044|       14|      13|      0057|           273|         249|     228|    2125|     0745|      8|             0803|        0753|      -10|       0|        0|               NULL|            NULL|          NULL|         NULL|               NULL|         NULL|               3.8|\n",
      "|2015|    1|  1|          4|     AA|         1112| N3LAAA|   SFO| DFW|               0030|          0019|      -11|      17|      0036|           195|         193|     173|    1464|     0529|      3|             0545|        0532|      -13|       0|        0|               NULL|            NULL|          NULL|         NULL|               NULL|         NULL|2.8833333333333333|\n",
      "|2015|    1|  1|          4|     DL|         1173| N826DN|   LAS| ATL|               0030|          0033|        3|      12|      0045|           221|         203|     186|    1747|     0651|      5|             0711|        0656|      -15|       0|        0|               NULL|            NULL|          NULL|         NULL|               NULL|         NULL|               3.1|\n",
      "|2015|    1|  1|          4|     DL|         2336| N958DN|   DEN| ATL|               0030|          0024|       -6|      12|      0036|           173|         149|     133|    1199|     0449|      4|             0523|        0453|      -30|       0|        0|               NULL|            NULL|          NULL|         NULL|               NULL|         NULL| 2.216666666666667|\n",
      "|2015|    1|  1|          4|     AA|         1674| N853AA|   LAS| MIA|               0035|          0027|       -8|      21|      0048|           268|         266|     238|    2174|     0746|      7|             0803|        0753|      -10|       0|        0|               NULL|            NULL|          NULL|         NULL|               NULL|         NULL| 3.966666666666667|\n",
      "|2015|    1|  1|          4|     DL|         1434| N547US|   LAX| MSP|               0035|          0035|        0|      18|      0053|           214|         210|     188|    1535|     0601|      4|             0609|        0605|       -4|       0|        0|               NULL|            NULL|          NULL|         NULL|               NULL|         NULL|3.1333333333333333|\n",
      "|2015|    1|  1|          4|     DL|         2324| N3751B|   SLC| ATL|               0040|          0034|       -6|      18|      0052|           215|         199|     176|    1590|     0548|      5|             0615|        0553|      -22|       0|        0|               NULL|            NULL|          NULL|         NULL|               NULL|         NULL| 2.933333333333333|\n",
      "|2015|    1|  1|          4|     DL|         2440| N651DL|   SEA| MSP|               0040|          0039|       -1|      28|      0107|           189|         198|     166|    1399|     0553|      4|             0549|        0557|        8|       0|        0|               NULL|            NULL|          NULL|         NULL|               NULL|         NULL|2.7666666666666666|\n",
      "|2015|    1|  1|          4|     AS|          108| N309AS|   ANC| SEA|               0045|          0041|       -4|      17|      0058|           204|         194|     173|    1448|     0451|      4|             0509|        0455|      -14|       0|        0|               NULL|            NULL|          NULL|         NULL|               NULL|         NULL|2.8833333333333333|\n",
      "|2015|    1|  1|          4|     DL|         1560| N3743H|   ANC| SEA|               0045|          0031|      -14|      25|      0056|           210|         200|     171|    1448|     0447|      4|             0515|        0451|      -24|       0|        0|               NULL|            NULL|          NULL|         NULL|               NULL|         NULL|              2.85|\n",
      "|2015|    1|  1|          4|     UA|         1197| N78448|   SFO| IAH|               0048|          0042|       -6|      11|      0053|           218|         217|     199|    1635|     0612|      7|             0626|        0619|       -7|       0|        0|               NULL|            NULL|          NULL|         NULL|               NULL|         NULL| 3.316666666666667|\n",
      "|2015|    1|  1|          4|     AS|          122| N413AS|   ANC| PDX|               0050|          0046|       -4|      11|      0057|           215|         201|     187|    1542|     0504|      3|             0525|        0507|      -18|       0|        0|               NULL|            NULL|          NULL|         NULL|               NULL|         NULL|3.1166666666666667|\n",
      "|2015|    1|  1|          4|     DL|         1670| N806DN|   PDX| MSP|               0050|          0045|       -5|       9|      0054|           193|         186|     171|    1426|     0545|      6|             0603|        0551|      -12|       0|        0|               NULL|            NULL|          NULL|         NULL|               NULL|         NULL|              2.85|\n",
      "+----+-----+---+-----------+-------+-------------+-------+------+----+-------------------+--------------+---------+--------+----------+--------------+------------+--------+--------+---------+-------+-----------------+------------+---------+--------+---------+-------------------+----------------+--------------+-------------+-------------------+-------------+------------------+\n",
      "only showing top 20 rows\n",
      "\n"
     ]
    }
   ],
   "source": [
    "# Filter flights by passing a string\n",
    "long_flights1 = flights.filter(\"distance > 1000\")\n",
    "\n",
    "# Filter flights by passing a column of boolean values\n",
    "long_flights2 = flights.filter(flights.distance > 1000)\n",
    "\n",
    "# Print the data to check they're equal\n",
    "long_flights1.show()\n",
    "long_flights2.show()"
   ]
  },
  {
   "cell_type": "markdown",
   "id": "29e3aab2-34af-4584-8688-c47833f1fcb6",
   "metadata": {},
   "source": [
    "## Selecting"
   ]
  },
  {
   "cell_type": "code",
   "execution_count": 24,
   "id": "b1244b16-5c1a-48fe-b5a5-27d96d07405b",
   "metadata": {},
   "outputs": [],
   "source": [
    "# Select the first set of columns\n",
    "selected1 = flights.select(\"tailnum\", \"origin\", \"dest\")\n",
    "\n",
    "# Select the second set of columns\n",
    "temp = flights.select(flights.origin, flights.dest, flights.carrier)\n",
    "\n",
    "# Define first filter\n",
    "filterA = flights.origin == \"SEA\"\n",
    "\n",
    "# Define second filter\n",
    "filterB = flights.dest == \"PDX\"\n",
    "\n",
    "# Filter the data, first by filterA then by filterB\n",
    "selected2 = temp.filter(filterA).filter(filterB)"
   ]
  },
  {
   "cell_type": "markdown",
   "id": "587974aa-b836-4c17-b43a-5aa62475e6ac",
   "metadata": {},
   "source": [
    "## Selecting II"
   ]
  },
  {
   "cell_type": "code",
   "execution_count": 25,
   "id": "a6683d81-0cde-4045-84d3-27953eccabe0",
   "metadata": {},
   "outputs": [],
   "source": [
    "# Define avg_speed\n",
    "avg_speed = (flights.distance/(flights.air_time/60)).alias(\"avg_speed\")\n",
    "\n",
    "# Select the correct columns\n",
    "speed1 = flights.select(\"origin\", \"dest\", \"tailnum\", avg_speed)\n",
    "\n",
    "# Create the same table using a SQL expression\n",
    "speed2 = flights.selectExpr(\"origin\", \"dest\", \"tailnum\", \"distance/(air_time/60) as avg_speed\")"
   ]
  },
  {
   "cell_type": "markdown",
   "id": "0c339e76-fe65-4c02-9f2f-99be478a02ea",
   "metadata": {},
   "source": [
    "### Showing the Avg Speed Column"
   ]
  },
  {
   "cell_type": "code",
   "execution_count": 26,
   "id": "5d7dd5f3-d7de-424e-88b8-ca8a40a72aa4",
   "metadata": {},
   "outputs": [
    {
     "name": "stdout",
     "output_type": "stream",
     "text": [
      "+------------------+\n",
      "|         avg_speed|\n",
      "+------------------+\n",
      "| 514.0828402366864|\n",
      "| 531.5589353612166|\n",
      "| 517.8947368421052|\n",
      "| 544.6511627906978|\n",
      "| 436.5829145728643|\n",
      "|462.81553398058253|\n",
      "| 506.1038961038961|\n",
      "| 559.2105263157895|\n",
      "| 507.7456647398844|\n",
      "| 563.5483870967741|\n",
      "| 540.9022556390977|\n",
      "| 548.0672268907563|\n",
      "| 489.8936170212766|\n",
      "| 542.0454545454546|\n",
      "|505.66265060240966|\n",
      "|502.19653179190755|\n",
      "| 508.0701754385965|\n",
      "|  492.964824120603|\n",
      "|494.75935828877004|\n",
      "|500.35087719298247|\n",
      "+------------------+\n",
      "only showing top 20 rows\n",
      "\n"
     ]
    }
   ],
   "source": [
    "flights.select(avg_speed).show()"
   ]
  },
  {
   "cell_type": "code",
   "execution_count": 27,
   "id": "25ae6df3-5b1a-4923-8002-adbc45826317",
   "metadata": {},
   "outputs": [
    {
     "name": "stderr",
     "output_type": "stream",
     "text": [
      "                                                                                \r"
     ]
    }
   ],
   "source": [
    "avg_speed_ = flights.select(avg_speed).collect()"
   ]
  },
  {
   "cell_type": "code",
   "execution_count": 28,
   "id": "e1dcad18-8a1d-4576-9d83-a5a6ab4b71fa",
   "metadata": {},
   "outputs": [
    {
     "data": {
      "text/plain": [
       "list"
      ]
     },
     "execution_count": 28,
     "metadata": {},
     "output_type": "execute_result"
    }
   ],
   "source": [
    "type(avg_speed_)"
   ]
  },
  {
   "cell_type": "code",
   "execution_count": 29,
   "id": "809633c1-08cd-4589-856b-5aaccbbd4795",
   "metadata": {},
   "outputs": [
    {
     "data": {
      "text/plain": [
       "[Row(avg_speed=514.0828402366864),\n",
       " Row(avg_speed=531.5589353612166),\n",
       " Row(avg_speed=517.8947368421052),\n",
       " Row(avg_speed=544.6511627906978),\n",
       " Row(avg_speed=436.5829145728643),\n",
       " Row(avg_speed=462.81553398058253),\n",
       " Row(avg_speed=506.1038961038961),\n",
       " Row(avg_speed=559.2105263157895),\n",
       " Row(avg_speed=507.7456647398844),\n",
       " Row(avg_speed=563.5483870967741)]"
      ]
     },
     "execution_count": 29,
     "metadata": {},
     "output_type": "execute_result"
    }
   ],
   "source": [
    "avg_speed_[:10]"
   ]
  },
  {
   "cell_type": "code",
   "execution_count": 30,
   "id": "770a4067-5a86-4e97-a249-83ffda3f1631",
   "metadata": {},
   "outputs": [],
   "source": [
    "import matplotlib.pyplot as plt"
   ]
  },
  {
   "cell_type": "code",
   "execution_count": 31,
   "id": "bd747789-611d-407e-a434-ce677efbc1bb",
   "metadata": {},
   "outputs": [
    {
     "data": {
      "text/plain": [
       "[<matplotlib.lines.Line2D at 0x2cfd7e910>]"
      ]
     },
     "execution_count": 31,
     "metadata": {},
     "output_type": "execute_result"
    },
    {
     "data": {
      "image/png": "[encoded data removed]",
      "text/plain": [
       "<Figure size 640x480 with 1 Axes>"
      ]
     },
     "metadata": {},
     "output_type": "display_data"
    }
   ],
   "source": [
    "plt.plot(avg_speed_[:100])"
   ]
  },
  {
   "cell_type": "markdown",
   "id": "73bb6ff2-3c01-49fc-b492-52092fa8792a",
   "metadata": {},
   "source": [
    "## Aggregating"
   ]
  },
  {
   "cell_type": "code",
   "execution_count": 32,
   "id": "22d1a933-a9dd-4bcd-9496-e50b56c35181",
   "metadata": {},
   "outputs": [
    {
     "name": "stdout",
     "output_type": "stream",
     "text": [
      "root\n",
      " |-- year: string (nullable = true)\n",
      " |-- month: string (nullable = true)\n",
      " |-- day: string (nullable = true)\n",
      " |-- day_of_week: string (nullable = true)\n",
      " |-- carrier: string (nullable = true)\n",
      " |-- flight_number: string (nullable = true)\n",
      " |-- tailnum: string (nullable = true)\n",
      " |-- origin: string (nullable = true)\n",
      " |-- dest: string (nullable = true)\n",
      " |-- scheduled_departure: string (nullable = true)\n",
      " |-- departure_time: string (nullable = true)\n",
      " |-- dep_delay: string (nullable = true)\n",
      " |-- taxi_out: string (nullable = true)\n",
      " |-- wheels_off: string (nullable = true)\n",
      " |-- scheduled_time: string (nullable = true)\n",
      " |-- elapsed_time: string (nullable = true)\n",
      " |-- air_time: string (nullable = true)\n",
      " |-- distance: string (nullable = true)\n",
      " |-- wheels_on: string (nullable = true)\n",
      " |-- taxi_in: string (nullable = true)\n",
      " |-- scheduled_arrival: string (nullable = true)\n",
      " |-- arrival_time: string (nullable = true)\n",
      " |-- arr_delay: string (nullable = true)\n",
      " |-- diverted: string (nullable = true)\n",
      " |-- cancelled: string (nullable = true)\n",
      " |-- cancellation_reason: string (nullable = true)\n",
      " |-- air_system_delay: string (nullable = true)\n",
      " |-- security_delay: string (nullable = true)\n",
      " |-- airline_delay: string (nullable = true)\n",
      " |-- late_aircraft_delay: string (nullable = true)\n",
      " |-- weather_delay: string (nullable = true)\n",
      " |-- duration_hrs: double (nullable = true)\n",
      "\n"
     ]
    }
   ],
   "source": [
    "flights.printSchema()"
   ]
  },
  {
   "cell_type": "code",
   "execution_count": 42,
   "id": "82b2c72b-fadf-4866-8122-22137a5e55d7",
   "metadata": {},
   "outputs": [],
   "source": [
    "flights = flights.withColumn('distance', flights.distance.cast('float'))\n",
    "flights = flights.withColumn('air_time', flights['air_time'].cast('float'))\n",
    "flights = flights.withColumn('dep_delay', flights['dep_delay'].cast('float'))"
   ]
  },
  {
   "cell_type": "code",
   "execution_count": 43,
   "id": "2e68b398-841d-41a9-901e-d695ab114feb",
   "metadata": {},
   "outputs": [
    {
     "name": "stderr",
     "output_type": "stream",
     "text": [
      "                                                                                \r"
     ]
    },
    {
     "name": "stdout",
     "output_type": "stream",
     "text": [
      "+-------------+\n",
      "|min(distance)|\n",
      "+-------------+\n",
      "|        129.0|\n",
      "+-------------+\n",
      "\n"
     ]
    },
    {
     "name": "stderr",
     "output_type": "stream",
     "text": [
      "[Stage 24:>                                                       (0 + 10) / 10]\r"
     ]
    },
    {
     "name": "stdout",
     "output_type": "stream",
     "text": [
      "+-------------+\n",
      "|max(air_time)|\n",
      "+-------------+\n",
      "|        412.0|\n",
      "+-------------+\n",
      "\n"
     ]
    },
    {
     "name": "stderr",
     "output_type": "stream",
     "text": [
      "                                                                                \r"
     ]
    }
   ],
   "source": [
    "# Find the shortest flight from PDX in terms of distance\n",
    "flights.filter(flights.origin == \"PDX\").groupBy().min(\"distance\").show()\n",
    "\n",
    "# Find the longest flight from SEA in terms of air time\n",
    "flights.filter(flights.origin == \"SEA\").groupBy().max(\"air_time\").show()"
   ]
  },
  {
   "cell_type": "markdown",
   "id": "9b3695e7-abeb-4cba-bd9c-f2e8a5889149",
   "metadata": {},
   "source": [
    "## Aggregating II"
   ]
  },
  {
   "cell_type": "code",
   "execution_count": 44,
   "id": "a39e3e9d-568b-4d43-a7a6-08b569cdaacf",
   "metadata": {},
   "outputs": [
    {
     "name": "stderr",
     "output_type": "stream",
     "text": [
      "                                                                                \r"
     ]
    },
    {
     "name": "stdout",
     "output_type": "stream",
     "text": [
      "+-----------------+\n",
      "|    avg(air_time)|\n",
      "+-----------------+\n",
      "|192.3077150895898|\n",
      "+-----------------+\n",
      "\n"
     ]
    },
    {
     "name": "stderr",
     "output_type": "stream",
     "text": [
      "[Stage 30:>                                                       (0 + 10) / 10]\r"
     ]
    },
    {
     "name": "stdout",
     "output_type": "stream",
     "text": [
      "+--------------------+\n",
      "|   sum(duration_hrs)|\n",
      "+--------------------+\n",
      "|1.0810105849999808E7|\n",
      "+--------------------+\n",
      "\n"
     ]
    },
    {
     "name": "stderr",
     "output_type": "stream",
     "text": [
      "                                                                                \r"
     ]
    }
   ],
   "source": [
    "# Average duration of Delta flights\n",
    "flights.filter(flights.origin == \"SEA\").filter(flights.carrier == \"DL\").groupBy().avg(\"air_time\").show()\n",
    "\n",
    "# Total hours in the air\n",
    "flights.withColumn(\"duration_hrs\", flights.air_time/60).groupBy().sum(\"duration_hrs\").show()"
   ]
  },
  {
   "cell_type": "markdown",
   "id": "59eeee2f-3fec-484c-acb0-f25bde09bb63",
   "metadata": {},
   "source": [
    "## Grouping and Aggregating I"
   ]
  },
  {
   "cell_type": "code",
   "execution_count": 45,
   "id": "acd92486-9399-4253-b4ce-1bd83fad35c7",
   "metadata": {},
   "outputs": [
    {
     "name": "stderr",
     "output_type": "stream",
     "text": [
      "                                                                                \r"
     ]
    },
    {
     "name": "stdout",
     "output_type": "stream",
     "text": [
      "+-------+-----+\n",
      "|tailnum|count|\n",
      "+-------+-----+\n",
      "| N38451|  946|\n",
      "| N567AA| 1458|\n",
      "| N623NK| 1669|\n",
      "| N442AS| 1210|\n",
      "| N902DE| 1704|\n",
      "| N4YUAA| 1290|\n",
      "| N466SW| 1942|\n",
      "| N516UA|  439|\n",
      "| N866AS| 2397|\n",
      "| N499AA| 1292|\n",
      "| N36472|  970|\n",
      "| N3CWAA|  998|\n",
      "| N8322X| 1567|\n",
      "| N102UW| 1263|\n",
      "| N3AEMQ| 1619|\n",
      "|  N6700| 1035|\n",
      "| N954WN| 2087|\n",
      "| N388DA|  917|\n",
      "| N396AA|  145|\n",
      "| N369NB| 1351|\n",
      "+-------+-----+\n",
      "only showing top 20 rows\n",
      "\n"
     ]
    },
    {
     "name": "stderr",
     "output_type": "stream",
     "text": [
      "[Stage 36:==================================>                      (6 + 4) / 10]\r"
     ]
    },
    {
     "name": "stdout",
     "output_type": "stream",
     "text": [
      "+------+------------------+\n",
      "|origin|     avg(air_time)|\n",
      "+------+------------------+\n",
      "|   BGM|  65.7915057915058|\n",
      "|   PSE|182.11517615176152|\n",
      "|   INL|31.967625899280577|\n",
      "|   MSY|102.93938681708973|\n",
      "|   PPG|  309.188679245283|\n",
      "|   GEG| 84.57923728813559|\n",
      "|   SNA|106.89280265882097|\n",
      "|   BUR| 68.00404814594916|\n",
      "|   GRB|48.289618644067794|\n",
      "|   GTF| 83.24794238683127|\n",
      "|   IDA| 49.87191011235955|\n",
      "|   GRR| 74.65268949815008|\n",
      "|   JLN| 59.12400635930047|\n",
      "|   EUG| 89.50393479482855|\n",
      "|   PSG| 19.75920245398773|\n",
      "|   GSO| 74.43670690188796|\n",
      "|   PVD|114.32044250255647|\n",
      "|   MYR| 75.71513227513228|\n",
      "|   OAK| 98.28575199788811|\n",
      "|   MSN| 66.39796149490374|\n",
      "+------+------------------+\n",
      "only showing top 20 rows\n",
      "\n"
     ]
    },
    {
     "name": "stderr",
     "output_type": "stream",
     "text": [
      "                                                                                \r"
     ]
    }
   ],
   "source": [
    "# Group by tailnum\n",
    "by_plane = flights.groupBy(\"tailnum\")\n",
    "\n",
    "# Number of flights each plane made\n",
    "by_plane.count().show()\n",
    "\n",
    "# Group by origin\n",
    "by_origin = flights.groupBy(\"origin\")\n",
    "\n",
    "# Average duration of flights from PDX and SEA\n",
    "by_origin.avg(\"air_time\").show()"
   ]
  },
  {
   "cell_type": "markdown",
   "id": "0f4a2ba6-788d-49de-97cf-615a8ecf5a37",
   "metadata": {},
   "source": [
    "## Grouping and Aggregating II"
   ]
  },
  {
   "cell_type": "code",
   "execution_count": 46,
   "id": "65d87b0d-9e96-4572-9137-b1a3aba97b81",
   "metadata": {},
   "outputs": [
    {
     "name": "stdout",
     "output_type": "stream",
     "text": [
      "root\n",
      " |-- year: string (nullable = true)\n",
      " |-- month: string (nullable = true)\n",
      " |-- day: string (nullable = true)\n",
      " |-- day_of_week: string (nullable = true)\n",
      " |-- carrier: string (nullable = true)\n",
      " |-- flight_number: string (nullable = true)\n",
      " |-- tailnum: string (nullable = true)\n",
      " |-- origin: string (nullable = true)\n",
      " |-- dest: string (nullable = true)\n",
      " |-- scheduled_departure: string (nullable = true)\n",
      " |-- departure_time: string (nullable = true)\n",
      " |-- dep_delay: float (nullable = true)\n",
      " |-- taxi_out: string (nullable = true)\n",
      " |-- wheels_off: string (nullable = true)\n",
      " |-- scheduled_time: string (nullable = true)\n",
      " |-- elapsed_time: string (nullable = true)\n",
      " |-- air_time: float (nullable = true)\n",
      " |-- distance: float (nullable = true)\n",
      " |-- wheels_on: string (nullable = true)\n",
      " |-- taxi_in: string (nullable = true)\n",
      " |-- scheduled_arrival: string (nullable = true)\n",
      " |-- arrival_time: string (nullable = true)\n",
      " |-- arr_delay: string (nullable = true)\n",
      " |-- diverted: string (nullable = true)\n",
      " |-- cancelled: string (nullable = true)\n",
      " |-- cancellation_reason: string (nullable = true)\n",
      " |-- air_system_delay: string (nullable = true)\n",
      " |-- security_delay: string (nullable = true)\n",
      " |-- airline_delay: string (nullable = true)\n",
      " |-- late_aircraft_delay: string (nullable = true)\n",
      " |-- weather_delay: string (nullable = true)\n",
      " |-- duration_hrs: double (nullable = true)\n",
      "\n"
     ]
    }
   ],
   "source": [
    "flights.printSchema()"
   ]
  },
  {
   "cell_type": "code",
   "execution_count": 47,
   "id": "4cef2cb9-33f3-47aa-900a-b3c5653a07cf",
   "metadata": {},
   "outputs": [
    {
     "name": "stderr",
     "output_type": "stream",
     "text": [
      "                                                                                \r"
     ]
    },
    {
     "name": "stdout",
     "output_type": "stream",
     "text": [
      "+-----+----+------------------+\n",
      "|month|dest|    avg(dep_delay)|\n",
      "+-----+----+------------------+\n",
      "|    1| BNA|10.161258112830755|\n",
      "|    1| PNS| 8.226837060702875|\n",
      "|    1| BTV|14.570815450643776|\n",
      "|    1| PIB| 2.150943396226415|\n",
      "|    2| LIT|11.875328083989501|\n",
      "|    2| CAE|14.589130434782609|\n",
      "|    2| HRL|1.9461538461538461|\n",
      "|    2| ERI|16.942028985507246|\n",
      "|    2| LAR|15.020833333333334|\n",
      "|    1| PDX| 7.575573362807406|\n",
      "|    1| MEI| 13.80952380952381|\n",
      "|    1| BUR|  7.50930930930931|\n",
      "|    1| ABE| 4.044585987261146|\n",
      "|    2| LRD| 2.611764705882353|\n",
      "|    2| YAK| -2.30188679245283|\n",
      "|    1| AVP| 10.26086956521739|\n",
      "|    1| PSE|  6.47887323943662|\n",
      "|    2| TUS|  9.44286781179985|\n",
      "|    1| CID|18.482059282371296|\n",
      "|    1| ACV| 12.73793103448276|\n",
      "+-----+----+------------------+\n",
      "only showing top 20 rows\n",
      "\n"
     ]
    },
    {
     "name": "stderr",
     "output_type": "stream",
     "text": [
      "[Stage 42:=============================================>           (8 + 2) / 10]\r"
     ]
    },
    {
     "name": "stdout",
     "output_type": "stream",
     "text": [
      "+-----+----+------------------+\n",
      "|month|dest| stddev(dep_delay)|\n",
      "+-----+----+------------------+\n",
      "|    1| BNA|31.602603549800648|\n",
      "|    1| PNS|32.538857733789776|\n",
      "|    1| BTV| 37.15525915024453|\n",
      "|    1| PIB|33.011301227129366|\n",
      "|    2| LIT|28.742939627103745|\n",
      "|    2| CAE|38.887003100463474|\n",
      "|    2| HRL| 17.21376460027532|\n",
      "|    2| ERI| 43.98491855771202|\n",
      "|    2| LAR| 34.91843967129708|\n",
      "|    1| PDX|  33.1545540716458|\n",
      "|    1| MEI|48.380638413155374|\n",
      "|    1| BUR|24.786250958989065|\n",
      "|    1| ABE|21.109101193392366|\n",
      "|    2| LRD| 16.65315800152028|\n",
      "|    2| YAK| 23.03891766426504|\n",
      "|    1| AVP| 26.97890239939016|\n",
      "|    1| PSE|20.759754440420522|\n",
      "|    2| TUS|30.967826249537236|\n",
      "|    1| CID| 38.95165360100559|\n",
      "|    1| ACV|  43.2484779259557|\n",
      "+-----+----+------------------+\n",
      "only showing top 20 rows\n",
      "\n"
     ]
    },
    {
     "name": "stderr",
     "output_type": "stream",
     "text": [
      "                                                                                \r"
     ]
    }
   ],
   "source": [
    "# Import pyspark.sql.functions as F\n",
    "import pyspark.sql.functions as F\n",
    "\n",
    "# Group by month and dest\n",
    "by_month_dest = flights.groupBy('month', 'dest')\n",
    "\n",
    "# Average departure delay by month and destination\n",
    "by_month_dest.avg('dep_delay').show()\n",
    "\n",
    "# Standard deviation of departure delay\n",
    "by_month_dest.agg(F.stddev('dep_delay')).show()"
   ]
  },
  {
   "cell_type": "code",
   "execution_count": 48,
   "id": "c0c99bae-217d-4a2a-8467-e1699fa6e5d8",
   "metadata": {},
   "outputs": [
    {
     "name": "stdout",
     "output_type": "stream",
     "text": [
      "+---+--------------------+------------------+-------------------+----+---+---+-------------------+\n",
      "|faa|                name|               lat|                lon| alt| tz|dst|              tzone|\n",
      "+---+--------------------+------------------+-------------------+----+---+---+-------------------+\n",
      "|04G|   Lansdowne Airport|        41.1304722|        -80.6195833|1044| -5|  A|   America/New_York|\n",
      "|06A|Moton Field Munic...|        32.4605722|        -85.6800278| 264| -6|  A|    America/Chicago|\n",
      "|06C| Schaumburg Regional|        41.9893408|        -88.1012428| 801| -6|  A|    America/Chicago|\n",
      "|06N|     Randall Airport|         41.431912|        -74.3915611| 523| -5|  A|   America/New_York|\n",
      "|09J|Jekyll Island Air...|        31.0744722|        -81.4277778|  11| -5|  A|   America/New_York|\n",
      "|0A9|Elizabethton Muni...|        36.3712222|        -82.1734167|1593| -5|  A|   America/New_York|\n",
      "|0G6|Williams County A...|        41.4673056|        -84.5067778| 730| -5|  A|   America/New_York|\n",
      "|0G7|Finger Lakes Regi...|        42.8835647|        -76.7812318| 492| -5|  A|   America/New_York|\n",
      "|0P2|Shoestring Aviati...|        39.7948244|        -76.6471914|1000| -5|  U|   America/New_York|\n",
      "|0S9|Jefferson County ...|48.053808600000004|       -122.8106436| 108| -8|  A|America/Los_Angeles|\n",
      "|0W3|Harford County Ai...|        39.5668378|        -76.2024028| 409| -5|  A|   America/New_York|\n",
      "|10C|  Galt Field Airport|        42.4028889|        -88.3751111| 875| -6|  U|    America/Chicago|\n",
      "|17G|Port Bucyrus-Craw...|        40.7815556|        -82.9748056|1003| -5|  A|   America/New_York|\n",
      "|19A|Jackson County Ai...|        34.1758638|        -83.5615972| 951| -5|  U|   America/New_York|\n",
      "|1A3|Martin Campbell F...|        35.0158056|        -84.3468333|1789| -5|  A|   America/New_York|\n",
      "|1B9| Mansfield Municipal|        42.0001331|        -71.1967714| 122| -5|  A|   America/New_York|\n",
      "|1C9|Frazier Lake Airpark|54.013333333333335|-124.76833333333333| 152| -8|  A|  America/Vancouver|\n",
      "|1CS|Clow Internationa...|        41.6959744|        -88.1292306| 670| -6|  U|    America/Chicago|\n",
      "|1G3|  Kent State Airport|        41.1513889|        -81.4151111|1134| -5|  A|   America/New_York|\n",
      "|1G4|Grand Canyon West...|         35.899904|        -113.815674|4813| -7|  A|    America/Phoenix|\n",
      "+---+--------------------+------------------+-------------------+----+---+---+-------------------+\n",
      "only showing top 20 rows\n",
      "\n"
     ]
    }
   ],
   "source": [
    "airports.show()"
   ]
  },
  {
   "cell_type": "markdown",
   "id": "2cd5c9ef-0d8b-4dc5-8fcb-da6c44132f81",
   "metadata": {},
   "source": [
    "## Joining II"
   ]
  },
  {
   "cell_type": "code",
   "execution_count": 49,
   "id": "0c81fe9a-c829-4d1a-85ba-c9bac17dd193",
   "metadata": {},
   "outputs": [
    {
     "name": "stdout",
     "output_type": "stream",
     "text": [
      "+---+--------------------+------------------+-------------------+----+---+---+-------------------+\n",
      "|faa|                name|               lat|                lon| alt| tz|dst|              tzone|\n",
      "+---+--------------------+------------------+-------------------+----+---+---+-------------------+\n",
      "|04G|   Lansdowne Airport|        41.1304722|        -80.6195833|1044| -5|  A|   America/New_York|\n",
      "|06A|Moton Field Munic...|        32.4605722|        -85.6800278| 264| -6|  A|    America/Chicago|\n",
      "|06C| Schaumburg Regional|        41.9893408|        -88.1012428| 801| -6|  A|    America/Chicago|\n",
      "|06N|     Randall Airport|         41.431912|        -74.3915611| 523| -5|  A|   America/New_York|\n",
      "|09J|Jekyll Island Air...|        31.0744722|        -81.4277778|  11| -5|  A|   America/New_York|\n",
      "|0A9|Elizabethton Muni...|        36.3712222|        -82.1734167|1593| -5|  A|   America/New_York|\n",
      "|0G6|Williams County A...|        41.4673056|        -84.5067778| 730| -5|  A|   America/New_York|\n",
      "|0G7|Finger Lakes Regi...|        42.8835647|        -76.7812318| 492| -5|  A|   America/New_York|\n",
      "|0P2|Shoestring Aviati...|        39.7948244|        -76.6471914|1000| -5|  U|   America/New_York|\n",
      "|0S9|Jefferson County ...|48.053808600000004|       -122.8106436| 108| -8|  A|America/Los_Angeles|\n",
      "|0W3|Harford County Ai...|        39.5668378|        -76.2024028| 409| -5|  A|   America/New_York|\n",
      "|10C|  Galt Field Airport|        42.4028889|        -88.3751111| 875| -6|  U|    America/Chicago|\n",
      "|17G|Port Bucyrus-Craw...|        40.7815556|        -82.9748056|1003| -5|  A|   America/New_York|\n",
      "|19A|Jackson County Ai...|        34.1758638|        -83.5615972| 951| -5|  U|   America/New_York|\n",
      "|1A3|Martin Campbell F...|        35.0158056|        -84.3468333|1789| -5|  A|   America/New_York|\n",
      "|1B9| Mansfield Municipal|        42.0001331|        -71.1967714| 122| -5|  A|   America/New_York|\n",
      "|1C9|Frazier Lake Airpark|54.013333333333335|-124.76833333333333| 152| -8|  A|  America/Vancouver|\n",
      "|1CS|Clow Internationa...|        41.6959744|        -88.1292306| 670| -6|  U|    America/Chicago|\n",
      "|1G3|  Kent State Airport|        41.1513889|        -81.4151111|1134| -5|  A|   America/New_York|\n",
      "|1G4|Grand Canyon West...|         35.899904|        -113.815674|4813| -7|  A|    America/Phoenix|\n",
      "+---+--------------------+------------------+-------------------+----+---+---+-------------------+\n",
      "only showing top 20 rows\n",
      "\n",
      "None\n",
      "+----+----+-----+---+-----------+-------+-------------+-------+------+-------------------+--------------+---------+--------+----------+--------------+------------+--------+--------+---------+-------+-----------------+------------+---------+--------+---------+-------------------+----------------+--------------+-------------+-------------------+-------------+------------------+--------------------+---------+-----------+----+---+---+-------------------+\n",
      "|dest|year|month|day|day_of_week|carrier|flight_number|tailnum|origin|scheduled_departure|departure_time|dep_delay|taxi_out|wheels_off|scheduled_time|elapsed_time|air_time|distance|wheels_on|taxi_in|scheduled_arrival|arrival_time|arr_delay|diverted|cancelled|cancellation_reason|air_system_delay|security_delay|airline_delay|late_aircraft_delay|weather_delay|      duration_hrs|                name|      lat|        lon| alt| tz|dst|              tzone|\n",
      "+----+----+-----+---+-----------+-------+-------------+-------+------+-------------------+--------------+---------+--------+----------+--------------+------------+--------+--------+---------+-------+-----------------+------------+---------+--------+---------+-------------------+----------------+--------------+-------------+-------------------+-------------+------------------+--------------------+---------+-----------+----+---+---+-------------------+\n",
      "| SEA|2015|    1|  1|          4|     AS|           98| N407AS|   ANC|               0005|          2354|    -11.0|      21|      0015|           205|         194|   169.0|  1448.0|     0404|      4|             0430|        0408|      -22|       0|        0|               NULL|            NULL|          NULL|         NULL|               NULL|         NULL| 2.816666666666667| Seattle Tacoma Intl|   47.449|-122.309306| 433| -8|  A|America/Los_Angeles|\n",
      "| PBI|2015|    1|  1|          4|     AA|         2336| N3KUAA|   LAX|               0010|          0002|     -8.0|      12|      0014|           280|         279|   263.0|  2330.0|     0737|      4|             0750|        0741|       -9|       0|        0|               NULL|            NULL|          NULL|         NULL|               NULL|         NULL| 4.383333333333334|     Palm Beach Intl|26.683161| -80.095589|  19| -5|  A|   America/New_York|\n",
      "| CLT|2015|    1|  1|          4|     US|          840| N171US|   SFO|               0020|          0018|     -2.0|      16|      0034|           286|         293|   266.0|  2296.0|     0800|     11|             0806|        0811|        5|       0|        0|               NULL|            NULL|          NULL|         NULL|               NULL|         NULL| 4.433333333333334|Charlotte Douglas...|   35.214| -80.943139| 748| -5|  A|   America/New_York|\n",
      "| MIA|2015|    1|  1|          4|     AA|          258| N3HYAA|   LAX|               0020|          0015|     -5.0|      15|      0030|           285|         281|   258.0|  2342.0|     0748|      8|             0805|        0756|       -9|       0|        0|               NULL|            NULL|          NULL|         NULL|               NULL|         NULL|               4.3|          Miami Intl| 25.79325| -80.290556|   8| -5|  A|   America/New_York|\n",
      "| ANC|2015|    1|  1|          4|     AS|          135| N527AS|   SEA|               0025|          0024|     -1.0|      11|      0035|           235|         215|   199.0|  1448.0|     0254|      5|             0320|        0259|      -21|       0|        0|               NULL|            NULL|          NULL|         NULL|               NULL|         NULL| 3.316666666666667|Ted Stevens Ancho...|61.174361|-149.996361| 152| -9|  A|  America/Anchorage|\n",
      "| MSP|2015|    1|  1|          4|     DL|          806| N3730B|   SFO|               0025|          0020|     -5.0|      18|      0038|           217|         230|   206.0|  1589.0|     0604|      6|             0602|        0610|        8|       0|        0|               NULL|            NULL|          NULL|         NULL|               NULL|         NULL| 3.433333333333333|Minneapolis St Pa...|44.881956| -93.221767| 841| -6|  A|    America/Chicago|\n",
      "| MSP|2015|    1|  1|          4|     NK|          612| N635NK|   LAS|               0025|          0019|     -6.0|      11|      0030|           181|         170|   154.0|  1299.0|     0504|      5|             0526|        0509|      -17|       0|        0|               NULL|            NULL|          NULL|         NULL|               NULL|         NULL| 2.566666666666667|Minneapolis St Pa...|44.881956| -93.221767| 841| -6|  A|    America/Chicago|\n",
      "| CLT|2015|    1|  1|          4|     US|         2013| N584UW|   LAX|               0030|          0044|     14.0|      13|      0057|           273|         249|   228.0|  2125.0|     0745|      8|             0803|        0753|      -10|       0|        0|               NULL|            NULL|          NULL|         NULL|               NULL|         NULL|               3.8|Charlotte Douglas...|   35.214| -80.943139| 748| -5|  A|   America/New_York|\n",
      "| DFW|2015|    1|  1|          4|     AA|         1112| N3LAAA|   SFO|               0030|          0019|    -11.0|      17|      0036|           195|         193|   173.0|  1464.0|     0529|      3|             0545|        0532|      -13|       0|        0|               NULL|            NULL|          NULL|         NULL|               NULL|         NULL|2.8833333333333333|Dallas Fort Worth...|32.896828| -97.037997| 607| -6|  A|    America/Chicago|\n",
      "| ATL|2015|    1|  1|          4|     DL|         1173| N826DN|   LAS|               0030|          0033|      3.0|      12|      0045|           221|         203|   186.0|  1747.0|     0651|      5|             0711|        0656|      -15|       0|        0|               NULL|            NULL|          NULL|         NULL|               NULL|         NULL|               3.1|Hartsfield Jackso...|33.636719| -84.428067|1026| -5|  A|   America/New_York|\n",
      "| ATL|2015|    1|  1|          4|     DL|         2336| N958DN|   DEN|               0030|          0024|     -6.0|      12|      0036|           173|         149|   133.0|  1199.0|     0449|      4|             0523|        0453|      -30|       0|        0|               NULL|            NULL|          NULL|         NULL|               NULL|         NULL| 2.216666666666667|Hartsfield Jackso...|33.636719| -84.428067|1026| -5|  A|   America/New_York|\n",
      "| MIA|2015|    1|  1|          4|     AA|         1674| N853AA|   LAS|               0035|          0027|     -8.0|      21|      0048|           268|         266|   238.0|  2174.0|     0746|      7|             0803|        0753|      -10|       0|        0|               NULL|            NULL|          NULL|         NULL|               NULL|         NULL| 3.966666666666667|          Miami Intl| 25.79325| -80.290556|   8| -5|  A|   America/New_York|\n",
      "| MSP|2015|    1|  1|          4|     DL|         1434| N547US|   LAX|               0035|          0035|      0.0|      18|      0053|           214|         210|   188.0|  1535.0|     0601|      4|             0609|        0605|       -4|       0|        0|               NULL|            NULL|          NULL|         NULL|               NULL|         NULL|3.1333333333333333|Minneapolis St Pa...|44.881956| -93.221767| 841| -6|  A|    America/Chicago|\n",
      "| ATL|2015|    1|  1|          4|     DL|         2324| N3751B|   SLC|               0040|          0034|     -6.0|      18|      0052|           215|         199|   176.0|  1590.0|     0548|      5|             0615|        0553|      -22|       0|        0|               NULL|            NULL|          NULL|         NULL|               NULL|         NULL| 2.933333333333333|Hartsfield Jackso...|33.636719| -84.428067|1026| -5|  A|   America/New_York|\n",
      "| MSP|2015|    1|  1|          4|     DL|         2440| N651DL|   SEA|               0040|          0039|     -1.0|      28|      0107|           189|         198|   166.0|  1399.0|     0553|      4|             0549|        0557|        8|       0|        0|               NULL|            NULL|          NULL|         NULL|               NULL|         NULL|2.7666666666666666|Minneapolis St Pa...|44.881956| -93.221767| 841| -6|  A|    America/Chicago|\n",
      "| SEA|2015|    1|  1|          4|     AS|          108| N309AS|   ANC|               0045|          0041|     -4.0|      17|      0058|           204|         194|   173.0|  1448.0|     0451|      4|             0509|        0455|      -14|       0|        0|               NULL|            NULL|          NULL|         NULL|               NULL|         NULL|2.8833333333333333| Seattle Tacoma Intl|   47.449|-122.309306| 433| -8|  A|America/Los_Angeles|\n",
      "| SEA|2015|    1|  1|          4|     DL|         1560| N3743H|   ANC|               0045|          0031|    -14.0|      25|      0056|           210|         200|   171.0|  1448.0|     0447|      4|             0515|        0451|      -24|       0|        0|               NULL|            NULL|          NULL|         NULL|               NULL|         NULL|              2.85| Seattle Tacoma Intl|   47.449|-122.309306| 433| -8|  A|America/Los_Angeles|\n",
      "| IAH|2015|    1|  1|          4|     UA|         1197| N78448|   SFO|               0048|          0042|     -6.0|      11|      0053|           218|         217|   199.0|  1635.0|     0612|      7|             0626|        0619|       -7|       0|        0|               NULL|            NULL|          NULL|         NULL|               NULL|         NULL| 3.316666666666667|George Bush Inter...|29.984433| -95.341442|  97| -6|  A|    America/Chicago|\n",
      "| PDX|2015|    1|  1|          4|     AS|          122| N413AS|   ANC|               0050|          0046|     -4.0|      11|      0057|           215|         201|   187.0|  1542.0|     0504|      3|             0525|        0507|      -18|       0|        0|               NULL|            NULL|          NULL|         NULL|               NULL|         NULL|3.1166666666666667|       Portland Intl|45.588722|  -122.5975|  30| -8|  A|America/Los_Angeles|\n",
      "| MSP|2015|    1|  1|          4|     DL|         1670| N806DN|   PDX|               0050|          0045|     -5.0|       9|      0054|           193|         186|   171.0|  1426.0|     0545|      6|             0603|        0551|      -12|       0|        0|               NULL|            NULL|          NULL|         NULL|               NULL|         NULL|              2.85|Minneapolis St Pa...|44.881956| -93.221767| 841| -6|  A|    America/Chicago|\n",
      "+----+----+-----+---+-----------+-------+-------------+-------+------+-------------------+--------------+---------+--------+----------+--------------+------------+--------+--------+---------+-------+-----------------+------------+---------+--------+---------+-------------------+----------------+--------------+-------------+-------------------+-------------+------------------+--------------------+---------+-----------+----+---+---+-------------------+\n",
      "only showing top 20 rows\n",
      "\n",
      "None\n"
     ]
    }
   ],
   "source": [
    "# Examine the data\n",
    "print(airports.show())\n",
    "\n",
    "# Rename the faa column\n",
    "airports = airports.withColumnRenamed('faa', 'dest')\n",
    "\n",
    "# Join the DataFrames\n",
    "flights_with_airports = flights.join(airports, on = 'dest', how = 'leftouter')\n",
    "\n",
    "# Examine the new DataFrame\n",
    "print(flights_with_airports.show())"
   ]
  },
  {
   "cell_type": "markdown",
   "id": "58890612-bd31-4200-9dc3-774add30e289",
   "metadata": {},
   "source": [
    "# Getting started with machine learning pipelines\n"
   ]
  },
  {
   "cell_type": "markdown",
   "id": "f353223d-2257-4771-8d6c-750001ab8394",
   "metadata": {},
   "source": [
    "## Machine Learning Pipelines\n",
    "In the next two chapters you'll step through every stage of the machine learning pipeline, from data intake to model evaluation. Let's get to it!\n",
    "\n",
    "At the core of the pyspark.ml module are the Transformer and Estimator classes. Almost every other class in the module behaves similarly to these two basic classes.\n",
    "\n",
    "Transformer classes have a .transform() method that takes a DataFrame and returns a new DataFrame; usually the original one with a new column appended. For example, you might use the class Bucketizer to create discrete bins from a continuous feature or the class PCA to reduce the dimensionality of your dataset using principal component analysis.\n",
    "\n",
    "Estimator classes all implement a .fit() method. These methods also take a DataFrame, but instead of returning another DataFrame they return a model object. This can be something like a StringIndexerModel for including categorical data saved as strings in your models, or a RandomForestModel that uses the random forest algorithm for classification or regression.\n",
    "\n"
   ]
  },
  {
   "cell_type": "code",
   "execution_count": 50,
   "id": "6b04a18b-8ed0-468c-9258-f54511a0b8b4",
   "metadata": {},
   "outputs": [],
   "source": [
    "planes = spark.read.csv(\"planes.csv\", header=True)"
   ]
  },
  {
   "cell_type": "code",
   "execution_count": 51,
   "id": "11fc2cb7-f6e6-4501-8faa-073a49953f5e",
   "metadata": {},
   "outputs": [
    {
     "name": "stdout",
     "output_type": "stream",
     "text": [
      "+-------+----+--------------------+----------------+---------+-------+-----+-----+---------+\n",
      "|tailnum|year|                type|    manufacturer|    model|engines|seats|speed|   engine|\n",
      "+-------+----+--------------------+----------------+---------+-------+-----+-----+---------+\n",
      "| N10156|2004|Fixed wing multi ...|         EMBRAER|EMB-145XR|      2|   55|   NA|Turbo-fan|\n",
      "| N102UW|1998|Fixed wing multi ...|AIRBUS INDUSTRIE| A320-214|      2|  182|   NA|Turbo-fan|\n",
      "| N103US|1999|Fixed wing multi ...|AIRBUS INDUSTRIE| A320-214|      2|  182|   NA|Turbo-fan|\n",
      "| N104UW|1999|Fixed wing multi ...|AIRBUS INDUSTRIE| A320-214|      2|  182|   NA|Turbo-fan|\n",
      "| N10575|2002|Fixed wing multi ...|         EMBRAER|EMB-145LR|      2|   55|   NA|Turbo-fan|\n",
      "| N105UW|1999|Fixed wing multi ...|AIRBUS INDUSTRIE| A320-214|      2|  182|   NA|Turbo-fan|\n",
      "| N107US|1999|Fixed wing multi ...|AIRBUS INDUSTRIE| A320-214|      2|  182|   NA|Turbo-fan|\n",
      "| N108UW|1999|Fixed wing multi ...|AIRBUS INDUSTRIE| A320-214|      2|  182|   NA|Turbo-fan|\n",
      "| N109UW|1999|Fixed wing multi ...|AIRBUS INDUSTRIE| A320-214|      2|  182|   NA|Turbo-fan|\n",
      "| N110UW|1999|Fixed wing multi ...|AIRBUS INDUSTRIE| A320-214|      2|  182|   NA|Turbo-fan|\n",
      "| N11106|2002|Fixed wing multi ...|         EMBRAER|EMB-145XR|      2|   55|   NA|Turbo-fan|\n",
      "| N11107|2002|Fixed wing multi ...|         EMBRAER|EMB-145XR|      2|   55|   NA|Turbo-fan|\n",
      "| N11109|2002|Fixed wing multi ...|         EMBRAER|EMB-145XR|      2|   55|   NA|Turbo-fan|\n",
      "| N11113|2002|Fixed wing multi ...|         EMBRAER|EMB-145XR|      2|   55|   NA|Turbo-fan|\n",
      "| N11119|2002|Fixed wing multi ...|         EMBRAER|EMB-145XR|      2|   55|   NA|Turbo-fan|\n",
      "| N11121|2003|Fixed wing multi ...|         EMBRAER|EMB-145XR|      2|   55|   NA|Turbo-fan|\n",
      "| N11127|2003|Fixed wing multi ...|         EMBRAER|EMB-145XR|      2|   55|   NA|Turbo-fan|\n",
      "| N11137|2003|Fixed wing multi ...|         EMBRAER|EMB-145XR|      2|   55|   NA|Turbo-fan|\n",
      "| N11140|2003|Fixed wing multi ...|         EMBRAER|EMB-145XR|      2|   55|   NA|Turbo-fan|\n",
      "| N11150|2003|Fixed wing multi ...|         EMBRAER|EMB-145XR|      2|   55|   NA|Turbo-fan|\n",
      "+-------+----+--------------------+----------------+---------+-------+-----+-----+---------+\n",
      "only showing top 20 rows\n",
      "\n"
     ]
    }
   ],
   "source": [
    "planes.show()"
   ]
  },
  {
   "cell_type": "code",
   "execution_count": 54,
   "id": "e60f9782-2b4b-4409-a22b-39f199c5d44e",
   "metadata": {},
   "outputs": [
    {
     "name": "stderr",
     "output_type": "stream",
     "text": [
      "[Stage 57:>                                                         (0 + 1) / 1]\r"
     ]
    },
    {
     "name": "stdout",
     "output_type": "stream",
     "text": [
      "+---+\n",
      "| ct|\n",
      "+---+\n",
      "|  1|\n",
      "+---+\n",
      "\n"
     ]
    },
    {
     "name": "stderr",
     "output_type": "stream",
     "text": [
      "                                                                                \r"
     ]
    }
   ],
   "source": [
    "planes.groupBy('tailnum').agg(F.count('*').alias('ct')).select('ct').distinct().show()"
   ]
  },
  {
   "cell_type": "markdown",
   "id": "d94efc4c-d454-4ac1-86f1-8a2679b7dc31",
   "metadata": {},
   "source": [
    "## Join the DataFrames"
   ]
  },
  {
   "cell_type": "code",
   "execution_count": 55,
   "id": "ee1f4989-ddfd-4a47-8902-dff4b53e623d",
   "metadata": {},
   "outputs": [],
   "source": [
    "# Rename year column\n",
    "planes = planes.withColumnRenamed('year', 'plane_year')\n",
    "\n",
    "# Join the DataFrames\n",
    "model_data = flights.join(planes, on='tailnum', how=\"leftouter\")"
   ]
  },
  {
   "cell_type": "code",
   "execution_count": 56,
   "id": "649e17b4-72af-47d3-9a7e-7ba723d71267",
   "metadata": {},
   "outputs": [
    {
     "name": "stdout",
     "output_type": "stream",
     "text": [
      "+-------+----+-----+---+-----------+-------+-------------+------+----+-------------------+--------------+---------+--------+----------+--------------+------------+--------+--------+---------+-------+-----------------+------------+---------+--------+---------+-------------------+----------------+--------------+-------------+-------------------+-------------+------------------+----------+--------------------+-----------------+---------+-------+-----+-----+---------+\n",
      "|tailnum|year|month|day|day_of_week|carrier|flight_number|origin|dest|scheduled_departure|departure_time|dep_delay|taxi_out|wheels_off|scheduled_time|elapsed_time|air_time|distance|wheels_on|taxi_in|scheduled_arrival|arrival_time|arr_delay|diverted|cancelled|cancellation_reason|air_system_delay|security_delay|airline_delay|late_aircraft_delay|weather_delay|      duration_hrs|plane_year|                type|     manufacturer|    model|engines|seats|speed|   engine|\n",
      "+-------+----+-----+---+-----------+-------+-------------+------+----+-------------------+--------------+---------+--------+----------+--------------+------------+--------+--------+---------+-------+-----------------+------------+---------+--------+---------+-------------------+----------------+--------------+-------------+-------------------+-------------+------------------+----------+--------------------+-----------------+---------+-------+-----+-----+---------+\n",
      "| N407AS|2015|    1|  1|          4|     AS|           98|   ANC| SEA|               0005|          2354|    -11.0|      21|      0015|           205|         194|   169.0|  1448.0|     0404|      4|             0430|        0408|      -22|       0|        0|               NULL|            NULL|          NULL|         NULL|               NULL|         NULL| 2.816666666666667|      2012|Fixed wing multi ...|           BOEING|737-990ER|      2|  222|   NA|Turbo-fan|\n",
      "| N3KUAA|2015|    1|  1|          4|     AA|         2336|   LAX| PBI|               0010|          0002|     -8.0|      12|      0014|           280|         279|   263.0|  2330.0|     0737|      4|             0750|        0741|       -9|       0|        0|               NULL|            NULL|          NULL|         NULL|               NULL|         NULL| 4.383333333333334|      NULL|                NULL|             NULL|     NULL|   NULL| NULL| NULL|     NULL|\n",
      "| N171US|2015|    1|  1|          4|     US|          840|   SFO| CLT|               0020|          0018|     -2.0|      16|      0034|           286|         293|   266.0|  2296.0|     0800|     11|             0806|        0811|        5|       0|        0|               NULL|            NULL|          NULL|         NULL|               NULL|         NULL| 4.433333333333334|      2001|Fixed wing multi ...| AIRBUS INDUSTRIE| A321-211|      2|  199|   NA|Turbo-jet|\n",
      "| N3HYAA|2015|    1|  1|          4|     AA|          258|   LAX| MIA|               0020|          0015|     -5.0|      15|      0030|           285|         281|   258.0|  2342.0|     0748|      8|             0805|        0756|       -9|       0|        0|               NULL|            NULL|          NULL|         NULL|               NULL|         NULL|               4.3|      NULL|                NULL|             NULL|     NULL|   NULL| NULL| NULL|     NULL|\n",
      "| N527AS|2015|    1|  1|          4|     AS|          135|   SEA| ANC|               0025|          0024|     -1.0|      11|      0035|           235|         215|   199.0|  1448.0|     0254|      5|             0320|        0259|      -21|       0|        0|               NULL|            NULL|          NULL|         NULL|               NULL|         NULL| 3.316666666666667|        NA|Fixed wing multi ...|           BOEING|  737-890|      2|  149|   NA|Turbo-fan|\n",
      "| N3730B|2015|    1|  1|          4|     DL|          806|   SFO| MSP|               0025|          0020|     -5.0|      18|      0038|           217|         230|   206.0|  1589.0|     0604|      6|             0602|        0610|        8|       0|        0|               NULL|            NULL|          NULL|         NULL|               NULL|         NULL| 3.433333333333333|      2000|Fixed wing multi ...|           BOEING|  737-832|      2|  189|   NA|Turbo-jet|\n",
      "| N635NK|2015|    1|  1|          4|     NK|          612|   LAS| MSP|               0025|          0019|     -6.0|      11|      0030|           181|         170|   154.0|  1299.0|     0504|      5|             0526|        0509|      -17|       0|        0|               NULL|            NULL|          NULL|         NULL|               NULL|         NULL| 2.566666666666667|      NULL|                NULL|             NULL|     NULL|   NULL| NULL| NULL|     NULL|\n",
      "| N584UW|2015|    1|  1|          4|     US|         2013|   LAX| CLT|               0030|          0044|     14.0|      13|      0057|           273|         249|   228.0|  2125.0|     0745|      8|             0803|        0753|      -10|       0|        0|               NULL|            NULL|          NULL|         NULL|               NULL|         NULL|               3.8|      NULL|                NULL|             NULL|     NULL|   NULL| NULL| NULL|     NULL|\n",
      "| N3LAAA|2015|    1|  1|          4|     AA|         1112|   SFO| DFW|               0030|          0019|    -11.0|      17|      0036|           195|         193|   173.0|  1464.0|     0529|      3|             0545|        0532|      -13|       0|        0|               NULL|            NULL|          NULL|         NULL|               NULL|         NULL|2.8833333333333333|      NULL|                NULL|             NULL|     NULL|   NULL| NULL| NULL|     NULL|\n",
      "| N826DN|2015|    1|  1|          4|     DL|         1173|   LAS| ATL|               0030|          0033|      3.0|      12|      0045|           221|         203|   186.0|  1747.0|     0651|      5|             0711|        0656|      -15|       0|        0|               NULL|            NULL|          NULL|         NULL|               NULL|         NULL|               3.1|      NULL|                NULL|             NULL|     NULL|   NULL| NULL| NULL|     NULL|\n",
      "| N958DN|2015|    1|  1|          4|     DL|         2336|   DEN| ATL|               0030|          0024|     -6.0|      12|      0036|           173|         149|   133.0|  1199.0|     0449|      4|             0523|        0453|      -30|       0|        0|               NULL|            NULL|          NULL|         NULL|               NULL|         NULL| 2.216666666666667|      1997|Fixed wing multi ...|MCDONNELL DOUGLAS| MD-90-30|      2|  142|   NA|Turbo-jet|\n",
      "| N853AA|2015|    1|  1|          4|     AA|         1674|   LAS| MIA|               0035|          0027|     -8.0|      21|      0048|           268|         266|   238.0|  2174.0|     0746|      7|             0803|        0753|      -10|       0|        0|               NULL|            NULL|          NULL|         NULL|               NULL|         NULL| 3.966666666666667|      NULL|                NULL|             NULL|     NULL|   NULL| NULL| NULL|     NULL|\n",
      "| N547US|2015|    1|  1|          4|     DL|         1434|   LAX| MSP|               0035|          0035|      0.0|      18|      0053|           214|         210|   188.0|  1535.0|     0601|      4|             0609|        0605|       -4|       0|        0|               NULL|            NULL|          NULL|         NULL|               NULL|         NULL|3.1333333333333333|      1996|Fixed wing multi ...|           BOEING|  757-251|      2|  178|   NA|Turbo-jet|\n",
      "| N3751B|2015|    1|  1|          4|     DL|         2324|   SLC| ATL|               0040|          0034|     -6.0|      18|      0052|           215|         199|   176.0|  1590.0|     0548|      5|             0615|        0553|      -22|       0|        0|               NULL|            NULL|          NULL|         NULL|               NULL|         NULL| 2.933333333333333|      2001|Fixed wing multi ...|           BOEING|  737-832|      2|  189|   NA|Turbo-jet|\n",
      "| N651DL|2015|    1|  1|          4|     DL|         2440|   SEA| MSP|               0040|          0039|     -1.0|      28|      0107|           189|         198|   166.0|  1399.0|     0553|      4|             0549|        0557|        8|       0|        0|               NULL|            NULL|          NULL|         NULL|               NULL|         NULL|2.7666666666666666|      1989|Fixed wing multi ...|           BOEING|  757-232|      2|  178|   NA|Turbo-fan|\n",
      "| N309AS|2015|    1|  1|          4|     AS|          108|   ANC| SEA|               0045|          0041|     -4.0|      17|      0058|           204|         194|   173.0|  1448.0|     0451|      4|             0509|        0455|      -14|       0|        0|               NULL|            NULL|          NULL|         NULL|               NULL|         NULL|2.8833333333333333|      2001|Fixed wing multi ...|           BOEING|  737-990|      2|  149|   NA|Turbo-jet|\n",
      "| N3743H|2015|    1|  1|          4|     DL|         1560|   ANC| SEA|               0045|          0031|    -14.0|      25|      0056|           210|         200|   171.0|  1448.0|     0447|      4|             0515|        0451|      -24|       0|        0|               NULL|            NULL|          NULL|         NULL|               NULL|         NULL|              2.85|      2001|Fixed wing multi ...|           BOEING|  737-832|      2|  189|   NA|Turbo-jet|\n",
      "| N78448|2015|    1|  1|          4|     UA|         1197|   SFO| IAH|               0048|          0042|     -6.0|      11|      0053|           218|         217|   199.0|  1635.0|     0612|      7|             0626|        0619|       -7|       0|        0|               NULL|            NULL|          NULL|         NULL|               NULL|         NULL| 3.316666666666667|      2012|Fixed wing multi ...|           BOEING|737-924ER|      2|  191|   NA|Turbo-fan|\n",
      "| N413AS|2015|    1|  1|          4|     AS|          122|   ANC| PDX|               0050|          0046|     -4.0|      11|      0057|           215|         201|   187.0|  1542.0|     0504|      3|             0525|        0507|      -18|       0|        0|               NULL|            NULL|          NULL|         NULL|               NULL|         NULL|3.1166666666666667|      2013|Fixed wing multi ...|           BOEING|737-990ER|      2|  222|   NA|Turbo-fan|\n",
      "| N806DN|2015|    1|  1|          4|     DL|         1670|   PDX| MSP|               0050|          0045|     -5.0|       9|      0054|           193|         186|   171.0|  1426.0|     0545|      6|             0603|        0551|      -12|       0|        0|               NULL|            NULL|          NULL|         NULL|               NULL|         NULL|              2.85|      NULL|                NULL|             NULL|     NULL|   NULL| NULL| NULL|     NULL|\n",
      "+-------+----+-----+---+-----------+-------+-------------+------+----+-------------------+--------------+---------+--------+----------+--------------+------------+--------+--------+---------+-------+-----------------+------------+---------+--------+---------+-------------------+----------------+--------------+-------------+-------------------+-------------+------------------+----------+--------------------+-----------------+---------+-------+-----+-----+---------+\n",
      "only showing top 20 rows\n",
      "\n"
     ]
    }
   ],
   "source": [
    "model_data.show()"
   ]
  },
  {
   "cell_type": "markdown",
   "id": "388c8995-e9c4-45e0-8fd3-113ce3dcef75",
   "metadata": {},
   "source": [
    "## Data types\n",
    "Good work! Before you get started modeling, it's important to know that Spark only handles numeric data. That means all of the columns in your DataFrame must be either integers or decimals (called 'doubles' in Spark).\n",
    "\n",
    "When we imported our data, we let Spark guess what kind of information each column held. Unfortunately, Spark doesn't always guess right and you can see that some of the columns in our DataFrame are strings containing numbers as opposed to actual numeric values.\n",
    "\n",
    "To remedy this, you can use the .cast() method in combination with the .withColumn() method. It's important to note that .cast() works on columns, while .withColumn() works on DataFrames.\n",
    "\n",
    "The only argument you need to pass to .cast() is the kind of value you want to create, in string form. For example, to create integers, you'll pass the argument \"integer\" and for decimal numbers you'll use \"double\".\n",
    "\n",
    "You can put this call to .cast() inside a call to .withColumn() to overwrite the already existing column, just like you did in the previous chapter!"
   ]
  },
  {
   "cell_type": "code",
   "execution_count": 57,
   "id": "edd03bd6-7788-48e5-9022-464436f1faf2",
   "metadata": {},
   "outputs": [],
   "source": [
    "# Cast the columns to integers\n",
    "model_data = model_data.withColumn(\"arr_delay\", model_data.arr_delay.cast('integer'))\n",
    "model_data = model_data.withColumn(\"air_time\", model_data.air_time.cast('integer'))\n",
    "model_data = model_data.withColumn(\"month\", model_data.month.cast('integer'))\n",
    "model_data = model_data.withColumn(\"plane_year\", model_data.plane_year.cast('integer'))"
   ]
  },
  {
   "cell_type": "markdown",
   "id": "19a97bbf-3a74-4146-9794-37141a5c2119",
   "metadata": {},
   "source": [
    "## Create a new Column"
   ]
  },
  {
   "cell_type": "code",
   "execution_count": 58,
   "id": "2a55efd9-e8b2-4514-a2ad-55282d4fc0d0",
   "metadata": {},
   "outputs": [],
   "source": [
    "# Create the column plane_age\n",
    "model_data = model_data.withColumn(\"plane_age\", model_data.year - model_data.plane_year)"
   ]
  },
  {
   "cell_type": "code",
   "execution_count": 59,
   "id": "28bfa6cc-db33-4536-8854-b238f265833e",
   "metadata": {},
   "outputs": [
    {
     "name": "stdout",
     "output_type": "stream",
     "text": [
      "+-------+----+-----+---+-----------+-------+-------------+------+----+-------------------+--------------+---------+--------+----------+--------------+------------+--------+--------+---------+-------+-----------------+------------+---------+--------+---------+-------------------+----------------+--------------+-------------+-------------------+-------------+------------------+----------+--------------------+-----------------+---------+-------+-----+-----+---------+---------+\n",
      "|tailnum|year|month|day|day_of_week|carrier|flight_number|origin|dest|scheduled_departure|departure_time|dep_delay|taxi_out|wheels_off|scheduled_time|elapsed_time|air_time|distance|wheels_on|taxi_in|scheduled_arrival|arrival_time|arr_delay|diverted|cancelled|cancellation_reason|air_system_delay|security_delay|airline_delay|late_aircraft_delay|weather_delay|      duration_hrs|plane_year|                type|     manufacturer|    model|engines|seats|speed|   engine|plane_age|\n",
      "+-------+----+-----+---+-----------+-------+-------------+------+----+-------------------+--------------+---------+--------+----------+--------------+------------+--------+--------+---------+-------+-----------------+------------+---------+--------+---------+-------------------+----------------+--------------+-------------+-------------------+-------------+------------------+----------+--------------------+-----------------+---------+-------+-----+-----+---------+---------+\n",
      "| N407AS|2015|    1|  1|          4|     AS|           98|   ANC| SEA|               0005|          2354|    -11.0|      21|      0015|           205|         194|     169|  1448.0|     0404|      4|             0430|        0408|      -22|       0|        0|               NULL|            NULL|          NULL|         NULL|               NULL|         NULL| 2.816666666666667|      2012|Fixed wing multi ...|           BOEING|737-990ER|      2|  222|   NA|Turbo-fan|      3.0|\n",
      "| N3KUAA|2015|    1|  1|          4|     AA|         2336|   LAX| PBI|               0010|          0002|     -8.0|      12|      0014|           280|         279|     263|  2330.0|     0737|      4|             0750|        0741|       -9|       0|        0|               NULL|            NULL|          NULL|         NULL|               NULL|         NULL| 4.383333333333334|      NULL|                NULL|             NULL|     NULL|   NULL| NULL| NULL|     NULL|     NULL|\n",
      "| N171US|2015|    1|  1|          4|     US|          840|   SFO| CLT|               0020|          0018|     -2.0|      16|      0034|           286|         293|     266|  2296.0|     0800|     11|             0806|        0811|        5|       0|        0|               NULL|            NULL|          NULL|         NULL|               NULL|         NULL| 4.433333333333334|      2001|Fixed wing multi ...| AIRBUS INDUSTRIE| A321-211|      2|  199|   NA|Turbo-jet|     14.0|\n",
      "| N3HYAA|2015|    1|  1|          4|     AA|          258|   LAX| MIA|               0020|          0015|     -5.0|      15|      0030|           285|         281|     258|  2342.0|     0748|      8|             0805|        0756|       -9|       0|        0|               NULL|            NULL|          NULL|         NULL|               NULL|         NULL|               4.3|      NULL|                NULL|             NULL|     NULL|   NULL| NULL| NULL|     NULL|     NULL|\n",
      "| N527AS|2015|    1|  1|          4|     AS|          135|   SEA| ANC|               0025|          0024|     -1.0|      11|      0035|           235|         215|     199|  1448.0|     0254|      5|             0320|        0259|      -21|       0|        0|               NULL|            NULL|          NULL|         NULL|               NULL|         NULL| 3.316666666666667|      NULL|Fixed wing multi ...|           BOEING|  737-890|      2|  149|   NA|Turbo-fan|     NULL|\n",
      "| N3730B|2015|    1|  1|          4|     DL|          806|   SFO| MSP|               0025|          0020|     -5.0|      18|      0038|           217|         230|     206|  1589.0|     0604|      6|             0602|        0610|        8|       0|        0|               NULL|            NULL|          NULL|         NULL|               NULL|         NULL| 3.433333333333333|      2000|Fixed wing multi ...|           BOEING|  737-832|      2|  189|   NA|Turbo-jet|     15.0|\n",
      "| N635NK|2015|    1|  1|          4|     NK|          612|   LAS| MSP|               0025|          0019|     -6.0|      11|      0030|           181|         170|     154|  1299.0|     0504|      5|             0526|        0509|      -17|       0|        0|               NULL|            NULL|          NULL|         NULL|               NULL|         NULL| 2.566666666666667|      NULL|                NULL|             NULL|     NULL|   NULL| NULL| NULL|     NULL|     NULL|\n",
      "| N584UW|2015|    1|  1|          4|     US|         2013|   LAX| CLT|               0030|          0044|     14.0|      13|      0057|           273|         249|     228|  2125.0|     0745|      8|             0803|        0753|      -10|       0|        0|               NULL|            NULL|          NULL|         NULL|               NULL|         NULL|               3.8|      NULL|                NULL|             NULL|     NULL|   NULL| NULL| NULL|     NULL|     NULL|\n",
      "| N3LAAA|2015|    1|  1|          4|     AA|         1112|   SFO| DFW|               0030|          0019|    -11.0|      17|      0036|           195|         193|     173|  1464.0|     0529|      3|             0545|        0532|      -13|       0|        0|               NULL|            NULL|          NULL|         NULL|               NULL|         NULL|2.8833333333333333|      NULL|                NULL|             NULL|     NULL|   NULL| NULL| NULL|     NULL|     NULL|\n",
      "| N826DN|2015|    1|  1|          4|     DL|         1173|   LAS| ATL|               0030|          0033|      3.0|      12|      0045|           221|         203|     186|  1747.0|     0651|      5|             0711|        0656|      -15|       0|        0|               NULL|            NULL|          NULL|         NULL|               NULL|         NULL|               3.1|      NULL|                NULL|             NULL|     NULL|   NULL| NULL| NULL|     NULL|     NULL|\n",
      "| N958DN|2015|    1|  1|          4|     DL|         2336|   DEN| ATL|               0030|          0024|     -6.0|      12|      0036|           173|         149|     133|  1199.0|     0449|      4|             0523|        0453|      -30|       0|        0|               NULL|            NULL|          NULL|         NULL|               NULL|         NULL| 2.216666666666667|      1997|Fixed wing multi ...|MCDONNELL DOUGLAS| MD-90-30|      2|  142|   NA|Turbo-jet|     18.0|\n",
      "| N853AA|2015|    1|  1|          4|     AA|         1674|   LAS| MIA|               0035|          0027|     -8.0|      21|      0048|           268|         266|     238|  2174.0|     0746|      7|             0803|        0753|      -10|       0|        0|               NULL|            NULL|          NULL|         NULL|               NULL|         NULL| 3.966666666666667|      NULL|                NULL|             NULL|     NULL|   NULL| NULL| NULL|     NULL|     NULL|\n",
      "| N547US|2015|    1|  1|          4|     DL|         1434|   LAX| MSP|               0035|          0035|      0.0|      18|      0053|           214|         210|     188|  1535.0|     0601|      4|             0609|        0605|       -4|       0|        0|               NULL|            NULL|          NULL|         NULL|               NULL|         NULL|3.1333333333333333|      1996|Fixed wing multi ...|           BOEING|  757-251|      2|  178|   NA|Turbo-jet|     19.0|\n",
      "| N3751B|2015|    1|  1|          4|     DL|         2324|   SLC| ATL|               0040|          0034|     -6.0|      18|      0052|           215|         199|     176|  1590.0|     0548|      5|             0615|        0553|      -22|       0|        0|               NULL|            NULL|          NULL|         NULL|               NULL|         NULL| 2.933333333333333|      2001|Fixed wing multi ...|           BOEING|  737-832|      2|  189|   NA|Turbo-jet|     14.0|\n",
      "| N651DL|2015|    1|  1|          4|     DL|         2440|   SEA| MSP|               0040|          0039|     -1.0|      28|      0107|           189|         198|     166|  1399.0|     0553|      4|             0549|        0557|        8|       0|        0|               NULL|            NULL|          NULL|         NULL|               NULL|         NULL|2.7666666666666666|      1989|Fixed wing multi ...|           BOEING|  757-232|      2|  178|   NA|Turbo-fan|     26.0|\n",
      "| N309AS|2015|    1|  1|          4|     AS|          108|   ANC| SEA|               0045|          0041|     -4.0|      17|      0058|           204|         194|     173|  1448.0|     0451|      4|             0509|        0455|      -14|       0|        0|               NULL|            NULL|          NULL|         NULL|               NULL|         NULL|2.8833333333333333|      2001|Fixed wing multi ...|           BOEING|  737-990|      2|  149|   NA|Turbo-jet|     14.0|\n",
      "| N3743H|2015|    1|  1|          4|     DL|         1560|   ANC| SEA|               0045|          0031|    -14.0|      25|      0056|           210|         200|     171|  1448.0|     0447|      4|             0515|        0451|      -24|       0|        0|               NULL|            NULL|          NULL|         NULL|               NULL|         NULL|              2.85|      2001|Fixed wing multi ...|           BOEING|  737-832|      2|  189|   NA|Turbo-jet|     14.0|\n",
      "| N78448|2015|    1|  1|          4|     UA|         1197|   SFO| IAH|               0048|          0042|     -6.0|      11|      0053|           218|         217|     199|  1635.0|     0612|      7|             0626|        0619|       -7|       0|        0|               NULL|            NULL|          NULL|         NULL|               NULL|         NULL| 3.316666666666667|      2012|Fixed wing multi ...|           BOEING|737-924ER|      2|  191|   NA|Turbo-fan|      3.0|\n",
      "| N413AS|2015|    1|  1|          4|     AS|          122|   ANC| PDX|               0050|          0046|     -4.0|      11|      0057|           215|         201|     187|  1542.0|     0504|      3|             0525|        0507|      -18|       0|        0|               NULL|            NULL|          NULL|         NULL|               NULL|         NULL|3.1166666666666667|      2013|Fixed wing multi ...|           BOEING|737-990ER|      2|  222|   NA|Turbo-fan|      2.0|\n",
      "| N806DN|2015|    1|  1|          4|     DL|         1670|   PDX| MSP|               0050|          0045|     -5.0|       9|      0054|           193|         186|     171|  1426.0|     0545|      6|             0603|        0551|      -12|       0|        0|               NULL|            NULL|          NULL|         NULL|               NULL|         NULL|              2.85|      NULL|                NULL|             NULL|     NULL|   NULL| NULL| NULL|     NULL|     NULL|\n",
      "+-------+----+-----+---+-----------+-------+-------------+------+----+-------------------+--------------+---------+--------+----------+--------------+------------+--------+--------+---------+-------+-----------------+------------+---------+--------+---------+-------------------+----------------+--------------+-------------+-------------------+-------------+------------------+----------+--------------------+-----------------+---------+-------+-----+-----+---------+---------+\n",
      "only showing top 20 rows\n",
      "\n"
     ]
    }
   ],
   "source": [
    "model_data.show()"
   ]
  },
  {
   "cell_type": "markdown",
   "id": "e5df8d4d-6232-4d78-88bf-89d33371e8cd",
   "metadata": {},
   "source": [
    "## Making a Boolean\n"
   ]
  },
  {
   "cell_type": "code",
   "execution_count": 60,
   "id": "0f70251a-cca2-4403-b5f1-bcb62511b874",
   "metadata": {},
   "outputs": [],
   "source": [
    "# Create is_late\n",
    "model_data = model_data.withColumn(\"is_late\", model_data.arr_delay > 0)\n",
    "\n",
    "# Convert to an integer\n",
    "model_data = model_data.withColumn(\"label\", model_data.is_late.cast('integer'))\n",
    "\n",
    "# Remove missing values\n",
    "model_data = model_data.filter(\"arr_delay is not NULL and dep_delay is not NULL and air_time is not NULL and plane_year is not NULL\")"
   ]
  },
  {
   "cell_type": "code",
   "execution_count": 61,
   "id": "81617fb3-5b71-4a4e-99c9-4265dc4923fd",
   "metadata": {},
   "outputs": [
    {
     "name": "stdout",
     "output_type": "stream",
     "text": [
      "+-------+----+-----+---+-----------+-------+-------------+------+----+-------------------+--------------+---------+--------+----------+--------------+------------+--------+--------+---------+-------+-----------------+------------+---------+--------+---------+-------------------+----------------+--------------+-------------+-------------------+-------------+------------------+----------+--------------------+-----------------+---------+-------+-----+-----+---------+---------+-------+-----+\n",
      "|tailnum|year|month|day|day_of_week|carrier|flight_number|origin|dest|scheduled_departure|departure_time|dep_delay|taxi_out|wheels_off|scheduled_time|elapsed_time|air_time|distance|wheels_on|taxi_in|scheduled_arrival|arrival_time|arr_delay|diverted|cancelled|cancellation_reason|air_system_delay|security_delay|airline_delay|late_aircraft_delay|weather_delay|      duration_hrs|plane_year|                type|     manufacturer|    model|engines|seats|speed|   engine|plane_age|is_late|label|\n",
      "+-------+----+-----+---+-----------+-------+-------------+------+----+-------------------+--------------+---------+--------+----------+--------------+------------+--------+--------+---------+-------+-----------------+------------+---------+--------+---------+-------------------+----------------+--------------+-------------+-------------------+-------------+------------------+----------+--------------------+-----------------+---------+-------+-----+-----+---------+---------+-------+-----+\n",
      "| N407AS|2015|    1|  1|          4|     AS|           98|   ANC| SEA|               0005|          2354|    -11.0|      21|      0015|           205|         194|     169|  1448.0|     0404|      4|             0430|        0408|      -22|       0|        0|               NULL|            NULL|          NULL|         NULL|               NULL|         NULL| 2.816666666666667|      2012|Fixed wing multi ...|           BOEING|737-990ER|      2|  222|   NA|Turbo-fan|      3.0|  false|    0|\n",
      "| N171US|2015|    1|  1|          4|     US|          840|   SFO| CLT|               0020|          0018|     -2.0|      16|      0034|           286|         293|     266|  2296.0|     0800|     11|             0806|        0811|        5|       0|        0|               NULL|            NULL|          NULL|         NULL|               NULL|         NULL| 4.433333333333334|      2001|Fixed wing multi ...| AIRBUS INDUSTRIE| A321-211|      2|  199|   NA|Turbo-jet|     14.0|   true|    1|\n",
      "| N3730B|2015|    1|  1|          4|     DL|          806|   SFO| MSP|               0025|          0020|     -5.0|      18|      0038|           217|         230|     206|  1589.0|     0604|      6|             0602|        0610|        8|       0|        0|               NULL|            NULL|          NULL|         NULL|               NULL|         NULL| 3.433333333333333|      2000|Fixed wing multi ...|           BOEING|  737-832|      2|  189|   NA|Turbo-jet|     15.0|   true|    1|\n",
      "| N958DN|2015|    1|  1|          4|     DL|         2336|   DEN| ATL|               0030|          0024|     -6.0|      12|      0036|           173|         149|     133|  1199.0|     0449|      4|             0523|        0453|      -30|       0|        0|               NULL|            NULL|          NULL|         NULL|               NULL|         NULL| 2.216666666666667|      1997|Fixed wing multi ...|MCDONNELL DOUGLAS| MD-90-30|      2|  142|   NA|Turbo-jet|     18.0|  false|    0|\n",
      "| N547US|2015|    1|  1|          4|     DL|         1434|   LAX| MSP|               0035|          0035|      0.0|      18|      0053|           214|         210|     188|  1535.0|     0601|      4|             0609|        0605|       -4|       0|        0|               NULL|            NULL|          NULL|         NULL|               NULL|         NULL|3.1333333333333333|      1996|Fixed wing multi ...|           BOEING|  757-251|      2|  178|   NA|Turbo-jet|     19.0|  false|    0|\n",
      "| N3751B|2015|    1|  1|          4|     DL|         2324|   SLC| ATL|               0040|          0034|     -6.0|      18|      0052|           215|         199|     176|  1590.0|     0548|      5|             0615|        0553|      -22|       0|        0|               NULL|            NULL|          NULL|         NULL|               NULL|         NULL| 2.933333333333333|      2001|Fixed wing multi ...|           BOEING|  737-832|      2|  189|   NA|Turbo-jet|     14.0|  false|    0|\n",
      "| N651DL|2015|    1|  1|          4|     DL|         2440|   SEA| MSP|               0040|          0039|     -1.0|      28|      0107|           189|         198|     166|  1399.0|     0553|      4|             0549|        0557|        8|       0|        0|               NULL|            NULL|          NULL|         NULL|               NULL|         NULL|2.7666666666666666|      1989|Fixed wing multi ...|           BOEING|  757-232|      2|  178|   NA|Turbo-fan|     26.0|   true|    1|\n",
      "| N309AS|2015|    1|  1|          4|     AS|          108|   ANC| SEA|               0045|          0041|     -4.0|      17|      0058|           204|         194|     173|  1448.0|     0451|      4|             0509|        0455|      -14|       0|        0|               NULL|            NULL|          NULL|         NULL|               NULL|         NULL|2.8833333333333333|      2001|Fixed wing multi ...|           BOEING|  737-990|      2|  149|   NA|Turbo-jet|     14.0|  false|    0|\n",
      "| N3743H|2015|    1|  1|          4|     DL|         1560|   ANC| SEA|               0045|          0031|    -14.0|      25|      0056|           210|         200|     171|  1448.0|     0447|      4|             0515|        0451|      -24|       0|        0|               NULL|            NULL|          NULL|         NULL|               NULL|         NULL|              2.85|      2001|Fixed wing multi ...|           BOEING|  737-832|      2|  189|   NA|Turbo-jet|     14.0|  false|    0|\n",
      "| N78448|2015|    1|  1|          4|     UA|         1197|   SFO| IAH|               0048|          0042|     -6.0|      11|      0053|           218|         217|     199|  1635.0|     0612|      7|             0626|        0619|       -7|       0|        0|               NULL|            NULL|          NULL|         NULL|               NULL|         NULL| 3.316666666666667|      2012|Fixed wing multi ...|           BOEING|737-924ER|      2|  191|   NA|Turbo-fan|      3.0|  false|    0|\n",
      "| N413AS|2015|    1|  1|          4|     AS|          122|   ANC| PDX|               0050|          0046|     -4.0|      11|      0057|           215|         201|     187|  1542.0|     0504|      3|             0525|        0507|      -18|       0|        0|               NULL|            NULL|          NULL|         NULL|               NULL|         NULL|3.1166666666666667|      2013|Fixed wing multi ...|           BOEING|737-990ER|      2|  222|   NA|Turbo-fan|      2.0|  false|    0|\n",
      "| N671DN|2015|    1|  1|          4|     DL|         1450|   LAS| MSP|               0105|          0102|     -3.0|      11|      0113|           183|         163|     150|  1299.0|     0543|      2|             0608|        0545|      -23|       0|        0|               NULL|            NULL|          NULL|         NULL|               NULL|         NULL|               2.5|      1992|Fixed wing multi ...|           BOEING|  757-232|      2|  178|   NA|Turbo-fan|     23.0|  false|    0|\n",
      "| N76517|2015|    1|  1|          4|     UA|         1545|   LAX| IAH|               0115|          0112|     -3.0|      11|      0123|           183|         175|     156|  1379.0|     0559|      8|             0618|        0607|      -11|       0|        0|               NULL|            NULL|          NULL|         NULL|               NULL|         NULL|               2.6|      2008|Fixed wing multi ...|           BOEING|  737-824|      2|  149|   NA|Turbo-fan|      7.0|  false|    0|\n",
      "| N571UW|2015|    1|  1|          4|     US|          413|   LAS| CLT|               0120|          0110|    -10.0|      12|      0122|           245|         224|     205|  1916.0|     0747|      7|             0825|        0754|      -31|       0|        0|               NULL|            NULL|          NULL|         NULL|               NULL|         NULL|3.4166666666666665|      2013|Fixed wing multi ...|           AIRBUS| A321-231|      2|  379|   NA|Turbo-fan|      2.0|  false|    0|\n",
      "| N320US|2015|    1|  1|          4|     DL|           95|   SLC| ATL|               0140|          0134|     -6.0|      43|      0217|           215|         231|     182|  1590.0|     0719|      6|             0715|        0725|       10|       0|        0|               NULL|            NULL|          NULL|         NULL|               NULL|         NULL| 3.033333333333333|      1991|Fixed wing multi ...| AIRBUS INDUSTRIE| A320-211|      2|  182|   NA|Turbo-jet|     24.0|   true|    1|\n",
      "| N804AW|2015|    1|  1|          4|     US|          617|   ANC| PHX|               0152|          0143|     -9.0|      21|      0204|           323|         322|     298|  2552.0|     0902|      3|             0915|        0905|      -10|       0|        0|               NULL|            NULL|          NULL|         NULL|               NULL|         NULL| 4.966666666666667|      1999|Fixed wing multi ...| AIRBUS INDUSTRIE| A319-132|      2|  179|   NA|Turbo-jet|     16.0|  false|    0|\n",
      "| N76519|2015|    1|  1|          4|     UA|         1528|   SJU| EWR|               0154|          0157|      3.0|      12|      0209|           255|         241|     220|  1608.0|     0449|      9|             0509|        0458|      -11|       0|        0|               NULL|            NULL|          NULL|         NULL|               NULL|         NULL|3.6666666666666665|      2009|Fixed wing multi ...|           BOEING|  737-824|      2|  149|   NA|Turbo-fan|      6.0|  false|    0|\n",
      "| N607JB|2015|    1|  1|          4|     B6|          304|   SJU| JFK|               0155|          0153|     -2.0|      12|      0205|           235|         248|     231|  1598.0|     0456|      5|             0450|        0501|       11|       0|        0|               NULL|            NULL|          NULL|         NULL|               NULL|         NULL|              3.85|      2005|Fixed wing multi ...|           AIRBUS| A320-232|      2|  200|   NA|Turbo-fan|     10.0|   true|    1|\n",
      "| N514AS|2015|    1|  1|          4|     AS|          144|   ANC| PDX|               0200|          0150|    -10.0|      24|      0214|           210|         209|     182|  1542.0|     0616|      3|             0630|        0619|      -11|       0|        0|               NULL|            NULL|          NULL|         NULL|               NULL|         NULL| 3.033333333333333|      2008|Fixed wing multi ...|           BOEING|  737-890|      2|  149|   NA|Turbo-fan|      7.0|  false|    0|\n",
      "| N597JB|2015|    1|  1|          4|     B6|         1990|   SJU| EWR|               0206|          0152|    -14.0|      19|      0211|           246|         264|     239|  1608.0|     0510|      6|             0512|        0516|        4|       0|        0|               NULL|            NULL|          NULL|         NULL|               NULL|         NULL|3.9833333333333334|      2004|Fixed wing multi ...|           AIRBUS| A320-232|      2|  200|   NA|Turbo-fan|     11.0|   true|    1|\n",
      "+-------+----+-----+---+-----------+-------+-------------+------+----+-------------------+--------------+---------+--------+----------+--------------+------------+--------+--------+---------+-------+-----------------+------------+---------+--------+---------+-------------------+----------------+--------------+-------------+-------------------+-------------+------------------+----------+--------------------+-----------------+---------+-------+-----+-----+---------+---------+-------+-----+\n",
      "only showing top 20 rows\n",
      "\n"
     ]
    }
   ],
   "source": [
    "model_data.show()"
   ]
  },
  {
   "cell_type": "markdown",
   "id": "14c08dd1-4aba-4f93-9c25-84b17bd8a18b",
   "metadata": {},
   "source": [
    "## Carrier"
   ]
  },
  {
   "cell_type": "code",
   "execution_count": 62,
   "id": "a7700c58-9b80-4142-b6a2-39f91608842b",
   "metadata": {},
   "outputs": [],
   "source": [
    "from pyspark.ml.feature import StringIndexer, OneHotEncoder, VectorAssembler"
   ]
  },
  {
   "cell_type": "code",
   "execution_count": 63,
   "id": "e2e3026a-e7cc-4711-be4d-7e54a012c725",
   "metadata": {},
   "outputs": [],
   "source": [
    "# Create a StringIndexer\n",
    "carr_indexer = StringIndexer(inputCol = 'carrier', outputCol = 'carrier_index')\n",
    "\n",
    "# Create a OneHotEncoder\n",
    "carr_encoder = OneHotEncoder(inputCol=\"carrier_index\", outputCol=\"carrier_fact\")"
   ]
  },
  {
   "cell_type": "markdown",
   "id": "2e3cba1a-e667-4234-9d7c-2083b8a7a143",
   "metadata": {},
   "source": [
    "## Destination"
   ]
  },
  {
   "cell_type": "code",
   "execution_count": 64,
   "id": "952909dc-f2e6-4150-9be3-eac448c4040d",
   "metadata": {},
   "outputs": [],
   "source": [
    "# Create a StringIndexer\n",
    "dest_indexer = StringIndexer(inputCol=\"dest\", outputCol=\"dest_index\")\n",
    "\n",
    "# Create a OneHotEncoder\n",
    "dest_encoder = OneHotEncoder(inputCol='dest_index', outputCol='dest_fact')"
   ]
  },
  {
   "cell_type": "markdown",
   "id": "ab1caafa-8c61-4ff0-be06-3b638b81cd89",
   "metadata": {},
   "source": [
    "## Assemble a vector\n"
   ]
  },
  {
   "cell_type": "code",
   "execution_count": 65,
   "id": "6cbb1043-3dd3-4424-812f-8f34d0644e60",
   "metadata": {},
   "outputs": [],
   "source": [
    "# Make a VectorAssembler\n",
    "vec_assembler = VectorAssembler(inputCols=[\"month\", \"air_time\", \"carrier_fact\", \"dest_fact\", \"plane_age\"], outputCol='features')"
   ]
  },
  {
   "cell_type": "markdown",
   "id": "ccd6730b-274a-45ad-9474-fe38f7b341fd",
   "metadata": {},
   "source": [
    "## Create the pipeline"
   ]
  },
  {
   "cell_type": "code",
   "execution_count": 66,
   "id": "be179854-dcaa-40ce-8d04-83d157bd59ae",
   "metadata": {},
   "outputs": [],
   "source": [
    "# Import Pipeline\n",
    "from pyspark.ml import Pipeline\n",
    "\n",
    "# Make the pipeline\n",
    "flights_pipe = Pipeline(stages=[dest_indexer, dest_encoder, carr_indexer, carr_encoder, vec_assembler])"
   ]
  },
  {
   "cell_type": "markdown",
   "id": "61340980-d49e-4039-b2c4-4391be0a6e1c",
   "metadata": {},
   "source": [
    "## Transform the data"
   ]
  },
  {
   "cell_type": "code",
   "execution_count": 67,
   "id": "8e68d966-4c8b-471b-a700-50d899e2d135",
   "metadata": {},
   "outputs": [
    {
     "name": "stderr",
     "output_type": "stream",
     "text": [
      "                                                                                \r"
     ]
    }
   ],
   "source": [
    "piped_data = flights_pipe.fit(model_data).transform(model_data)"
   ]
  },
  {
   "cell_type": "code",
   "execution_count": 68,
   "id": "dff88b96-f739-4054-8a80-7abba388b2e6",
   "metadata": {},
   "outputs": [
    {
     "name": "stdout",
     "output_type": "stream",
     "text": [
      "+-------+----+-----+---+-----------+-------+-------------+------+----+-------------------+--------------+---------+--------+----------+--------------+------------+--------+--------+---------+-------+-----------------+------------+---------+--------+---------+-------------------+----------------+--------------+-------------+-------------------+-------------+------------------+----------+--------------------+-----------------+---------+-------+-----+-----+---------+---------+-------+-----+----------+----------------+-------------+--------------+--------------------+\n",
      "|tailnum|year|month|day|day_of_week|carrier|flight_number|origin|dest|scheduled_departure|departure_time|dep_delay|taxi_out|wheels_off|scheduled_time|elapsed_time|air_time|distance|wheels_on|taxi_in|scheduled_arrival|arrival_time|arr_delay|diverted|cancelled|cancellation_reason|air_system_delay|security_delay|airline_delay|late_aircraft_delay|weather_delay|      duration_hrs|plane_year|                type|     manufacturer|    model|engines|seats|speed|   engine|plane_age|is_late|label|dest_index|       dest_fact|carrier_index|  carrier_fact|            features|\n",
      "+-------+----+-----+---+-----------+-------+-------------+------+----+-------------------+--------------+---------+--------+----------+--------------+------------+--------+--------+---------+-------+-----------------+------------+---------+--------+---------+-------------------+----------------+--------------+-------------+-------------------+-------------+------------------+----------+--------------------+-----------------+---------+-------+-----+-----+---------+---------+-------+-----+----------+----------------+-------------+--------------+--------------------+\n",
      "| N407AS|2015|    1|  1|          4|     AS|           98|   ANC| SEA|               0005|          2354|    -11.0|      21|      0015|           205|         194|     169|  1448.0|     0404|      4|             0430|        0408|      -22|       0|        0|               NULL|            NULL|          NULL|         NULL|               NULL|         NULL| 2.816666666666667|      2012|Fixed wing multi ...|           BOEING|737-990ER|      2|  222|   NA|Turbo-fan|      3.0|  false|    0|      18.0|(559,[18],[1.0])|          7.0|(12,[7],[1.0])|(574,[0,1,9,32,57...|\n",
      "| N171US|2015|    1|  1|          4|     US|          840|   SFO| CLT|               0020|          0018|     -2.0|      16|      0034|           286|         293|     266|  2296.0|     0800|     11|             0806|        0811|        5|       0|        0|               NULL|            NULL|          NULL|         NULL|               NULL|         NULL| 4.433333333333334|      2001|Fixed wing multi ...| AIRBUS INDUSTRIE| A321-211|      2|  199|   NA|Turbo-jet|     14.0|   true|    1|      11.0|(559,[11],[1.0])|          6.0|(12,[6],[1.0])|(574,[0,1,8,25,57...|\n",
      "| N3730B|2015|    1|  1|          4|     DL|          806|   SFO| MSP|               0025|          0020|     -5.0|      18|      0038|           217|         230|     206|  1589.0|     0604|      6|             0602|        0610|        8|       0|        0|               NULL|            NULL|          NULL|         NULL|               NULL|         NULL| 3.433333333333333|      2000|Fixed wing multi ...|           BOEING|  737-832|      2|  189|   NA|Turbo-jet|     15.0|   true|    1|      13.0|(559,[13],[1.0])|          1.0|(12,[1],[1.0])|(574,[0,1,3,27,57...|\n",
      "| N958DN|2015|    1|  1|          4|     DL|         2336|   DEN| ATL|               0030|          0024|     -6.0|      12|      0036|           173|         149|     133|  1199.0|     0449|      4|             0523|        0453|      -30|       0|        0|               NULL|            NULL|          NULL|         NULL|               NULL|         NULL| 2.216666666666667|      1997|Fixed wing multi ...|MCDONNELL DOUGLAS| MD-90-30|      2|  142|   NA|Turbo-jet|     18.0|  false|    0|       0.0| (559,[0],[1.0])|          1.0|(12,[1],[1.0])|(574,[0,1,3,14,57...|\n",
      "| N547US|2015|    1|  1|          4|     DL|         1434|   LAX| MSP|               0035|          0035|      0.0|      18|      0053|           214|         210|     188|  1535.0|     0601|      4|             0609|        0605|       -4|       0|        0|               NULL|            NULL|          NULL|         NULL|               NULL|         NULL|3.1333333333333333|      1996|Fixed wing multi ...|           BOEING|  757-251|      2|  178|   NA|Turbo-jet|     19.0|  false|    0|      13.0|(559,[13],[1.0])|          1.0|(12,[1],[1.0])|(574,[0,1,3,27,57...|\n",
      "| N3751B|2015|    1|  1|          4|     DL|         2324|   SLC| ATL|               0040|          0034|     -6.0|      18|      0052|           215|         199|     176|  1590.0|     0548|      5|             0615|        0553|      -22|       0|        0|               NULL|            NULL|          NULL|         NULL|               NULL|         NULL| 2.933333333333333|      2001|Fixed wing multi ...|           BOEING|  737-832|      2|  189|   NA|Turbo-jet|     14.0|  false|    0|       0.0| (559,[0],[1.0])|          1.0|(12,[1],[1.0])|(574,[0,1,3,14,57...|\n",
      "| N651DL|2015|    1|  1|          4|     DL|         2440|   SEA| MSP|               0040|          0039|     -1.0|      28|      0107|           189|         198|     166|  1399.0|     0553|      4|             0549|        0557|        8|       0|        0|               NULL|            NULL|          NULL|         NULL|               NULL|         NULL|2.7666666666666666|      1989|Fixed wing multi ...|           BOEING|  757-232|      2|  178|   NA|Turbo-fan|     26.0|   true|    1|      13.0|(559,[13],[1.0])|          1.0|(12,[1],[1.0])|(574,[0,1,3,27,57...|\n",
      "| N309AS|2015|    1|  1|          4|     AS|          108|   ANC| SEA|               0045|          0041|     -4.0|      17|      0058|           204|         194|     173|  1448.0|     0451|      4|             0509|        0455|      -14|       0|        0|               NULL|            NULL|          NULL|         NULL|               NULL|         NULL|2.8833333333333333|      2001|Fixed wing multi ...|           BOEING|  737-990|      2|  149|   NA|Turbo-jet|     14.0|  false|    0|      18.0|(559,[18],[1.0])|          7.0|(12,[7],[1.0])|(574,[0,1,9,32,57...|\n",
      "| N3743H|2015|    1|  1|          4|     DL|         1560|   ANC| SEA|               0045|          0031|    -14.0|      25|      0056|           210|         200|     171|  1448.0|     0447|      4|             0515|        0451|      -24|       0|        0|               NULL|            NULL|          NULL|         NULL|               NULL|         NULL|              2.85|      2001|Fixed wing multi ...|           BOEING|  737-832|      2|  189|   NA|Turbo-jet|     14.0|  false|    0|      18.0|(559,[18],[1.0])|          1.0|(12,[1],[1.0])|(574,[0,1,3,32,57...|\n",
      "| N78448|2015|    1|  1|          4|     UA|         1197|   SFO| IAH|               0048|          0042|     -6.0|      11|      0053|           218|         217|     199|  1635.0|     0612|      7|             0626|        0619|       -7|       0|        0|               NULL|            NULL|          NULL|         NULL|               NULL|         NULL| 3.316666666666667|      2012|Fixed wing multi ...|           BOEING|737-924ER|      2|  191|   NA|Turbo-fan|      3.0|  false|    0|       3.0| (559,[3],[1.0])|          2.0|(12,[2],[1.0])|(574,[0,1,4,17,57...|\n",
      "| N413AS|2015|    1|  1|          4|     AS|          122|   ANC| PDX|               0050|          0046|     -4.0|      11|      0057|           215|         201|     187|  1542.0|     0504|      3|             0525|        0507|      -18|       0|        0|               NULL|            NULL|          NULL|         NULL|               NULL|         NULL|3.1166666666666667|      2013|Fixed wing multi ...|           BOEING|737-990ER|      2|  222|   NA|Turbo-fan|      2.0|  false|    0|      32.0|(559,[32],[1.0])|          7.0|(12,[7],[1.0])|(574,[0,1,9,46,57...|\n",
      "| N671DN|2015|    1|  1|          4|     DL|         1450|   LAS| MSP|               0105|          0102|     -3.0|      11|      0113|           183|         163|     150|  1299.0|     0543|      2|             0608|        0545|      -23|       0|        0|               NULL|            NULL|          NULL|         NULL|               NULL|         NULL|               2.5|      1992|Fixed wing multi ...|           BOEING|  757-232|      2|  178|   NA|Turbo-fan|     23.0|  false|    0|      13.0|(559,[13],[1.0])|          1.0|(12,[1],[1.0])|(574,[0,1,3,27,57...|\n",
      "| N76517|2015|    1|  1|          4|     UA|         1545|   LAX| IAH|               0115|          0112|     -3.0|      11|      0123|           183|         175|     156|  1379.0|     0559|      8|             0618|        0607|      -11|       0|        0|               NULL|            NULL|          NULL|         NULL|               NULL|         NULL|               2.6|      2008|Fixed wing multi ...|           BOEING|  737-824|      2|  149|   NA|Turbo-fan|      7.0|  false|    0|       3.0| (559,[3],[1.0])|          2.0|(12,[2],[1.0])|(574,[0,1,4,17,57...|\n",
      "| N571UW|2015|    1|  1|          4|     US|          413|   LAS| CLT|               0120|          0110|    -10.0|      12|      0122|           245|         224|     205|  1916.0|     0747|      7|             0825|        0754|      -31|       0|        0|               NULL|            NULL|          NULL|         NULL|               NULL|         NULL|3.4166666666666665|      2013|Fixed wing multi ...|           AIRBUS| A321-231|      2|  379|   NA|Turbo-fan|      2.0|  false|    0|      11.0|(559,[11],[1.0])|          6.0|(12,[6],[1.0])|(574,[0,1,8,25,57...|\n",
      "| N320US|2015|    1|  1|          4|     DL|           95|   SLC| ATL|               0140|          0134|     -6.0|      43|      0217|           215|         231|     182|  1590.0|     0719|      6|             0715|        0725|       10|       0|        0|               NULL|            NULL|          NULL|         NULL|               NULL|         NULL| 3.033333333333333|      1991|Fixed wing multi ...| AIRBUS INDUSTRIE| A320-211|      2|  182|   NA|Turbo-jet|     24.0|   true|    1|       0.0| (559,[0],[1.0])|          1.0|(12,[1],[1.0])|(574,[0,1,3,14,57...|\n",
      "| N804AW|2015|    1|  1|          4|     US|          617|   ANC| PHX|               0152|          0143|     -9.0|      21|      0204|           323|         322|     298|  2552.0|     0902|      3|             0915|        0905|      -10|       0|        0|               NULL|            NULL|          NULL|         NULL|               NULL|         NULL| 4.966666666666667|      1999|Fixed wing multi ...| AIRBUS INDUSTRIE| A319-132|      2|  179|   NA|Turbo-jet|     16.0|  false|    0|       5.0| (559,[5],[1.0])|          6.0|(12,[6],[1.0])|(574,[0,1,8,19,57...|\n",
      "| N76519|2015|    1|  1|          4|     UA|         1528|   SJU| EWR|               0154|          0157|      3.0|      12|      0209|           255|         241|     220|  1608.0|     0449|      9|             0509|        0458|      -11|       0|        0|               NULL|            NULL|          NULL|         NULL|               NULL|         NULL|3.6666666666666665|      2009|Fixed wing multi ...|           BOEING|  737-824|      2|  149|   NA|Turbo-fan|      6.0|  false|    0|       7.0| (559,[7],[1.0])|          2.0|(12,[2],[1.0])|(574,[0,1,4,21,57...|\n",
      "| N607JB|2015|    1|  1|          4|     B6|          304|   SJU| JFK|               0155|          0153|     -2.0|      12|      0205|           235|         248|     231|  1598.0|     0456|      5|             0450|        0501|       11|       0|        0|               NULL|            NULL|          NULL|         NULL|               NULL|         NULL|              3.85|      2005|Fixed wing multi ...|           AIRBUS| A320-232|      2|  200|   NA|Turbo-fan|     10.0|   true|    1|      14.0|(559,[14],[1.0])|          5.0|(12,[5],[1.0])|(574,[0,1,7,28,57...|\n",
      "| N514AS|2015|    1|  1|          4|     AS|          144|   ANC| PDX|               0200|          0150|    -10.0|      24|      0214|           210|         209|     182|  1542.0|     0616|      3|             0630|        0619|      -11|       0|        0|               NULL|            NULL|          NULL|         NULL|               NULL|         NULL| 3.033333333333333|      2008|Fixed wing multi ...|           BOEING|  737-890|      2|  149|   NA|Turbo-fan|      7.0|  false|    0|      32.0|(559,[32],[1.0])|          7.0|(12,[7],[1.0])|(574,[0,1,9,46,57...|\n",
      "| N597JB|2015|    1|  1|          4|     B6|         1990|   SJU| EWR|               0206|          0152|    -14.0|      19|      0211|           246|         264|     239|  1608.0|     0510|      6|             0512|        0516|        4|       0|        0|               NULL|            NULL|          NULL|         NULL|               NULL|         NULL|3.9833333333333334|      2004|Fixed wing multi ...|           AIRBUS| A320-232|      2|  200|   NA|Turbo-fan|     11.0|   true|    1|       7.0| (559,[7],[1.0])|          5.0|(12,[5],[1.0])|(574,[0,1,7,21,57...|\n",
      "+-------+----+-----+---+-----------+-------+-------------+------+----+-------------------+--------------+---------+--------+----------+--------------+------------+--------+--------+---------+-------+-----------------+------------+---------+--------+---------+-------------------+----------------+--------------+-------------+-------------------+-------------+------------------+----------+--------------------+-----------------+---------+-------+-----+-----+---------+---------+-------+-----+----------+----------------+-------------+--------------+--------------------+\n",
      "only showing top 20 rows\n",
      "\n"
     ]
    }
   ],
   "source": [
    "piped_data.show()"
   ]
  },
  {
   "cell_type": "markdown",
   "id": "583416ed-ae02-4b47-b4ad-9c335a27893e",
   "metadata": {},
   "source": [
    "## Split the Data"
   ]
  },
  {
   "cell_type": "code",
   "execution_count": 69,
   "id": "79d60a46-f3b1-4550-87bf-df1db0705765",
   "metadata": {},
   "outputs": [],
   "source": [
    "# Split the data into training and test sets\n",
    "training, test = piped_data.randomSplit([.6,.4])"
   ]
  },
  {
   "cell_type": "markdown",
   "id": "d121931a-513b-46ef-bc9f-b8b461b6f369",
   "metadata": {},
   "source": [
    "# Model tuning and selection\n"
   ]
  },
  {
   "cell_type": "markdown",
   "id": "535f8637-c383-429f-bc20-5da2cfad67fa",
   "metadata": {},
   "source": [
    "## Create the modeler\n"
   ]
  },
  {
   "cell_type": "code",
   "execution_count": 70,
   "id": "e9ca0e22-f5f2-4ac6-9052-b782c49ef8df",
   "metadata": {},
   "outputs": [],
   "source": [
    "# Import LogisticRegression\n",
    "from pyspark.ml.classification import LogisticRegression\n",
    "\n",
    "# Create a LogisticRegression Estimator\n",
    "lr = LogisticRegression()"
   ]
  },
  {
   "cell_type": "markdown",
   "id": "2579da86-9861-45cb-8c90-724a34f51e82",
   "metadata": {},
   "source": [
    "## Create the evaluator"
   ]
  },
  {
   "cell_type": "code",
   "execution_count": 71,
   "id": "4b0a11d8-ca43-4d04-8ac7-813f3d99ad6c",
   "metadata": {},
   "outputs": [],
   "source": [
    "# Import the evaluation submodule\n",
    "import pyspark.ml.evaluation as evals\n",
    "\n",
    "# Create a BinaryClassificationEvaluator\n",
    "evaluator = evals.BinaryClassificationEvaluator(metricName='areaUnderROC')"
   ]
  },
  {
   "cell_type": "markdown",
   "id": "57136be5-d685-42f5-973b-30eb6ce41554",
   "metadata": {},
   "source": [
    "## Make a grid"
   ]
  },
  {
   "cell_type": "code",
   "execution_count": 72,
   "id": "47089e1f-3ee9-4bdf-b653-517ed2ff1bda",
   "metadata": {},
   "outputs": [],
   "source": [
    "# Import the tuning submodule\n",
    "import pyspark.ml.tuning as tune\n",
    "\n",
    "# Create the parameter grid\n",
    "grid = tune.ParamGridBuilder()\n",
    "\n",
    "# Add the hyperparameter\n",
    "grid = grid.addGrid(lr.regParam, np.arange(0, .1, .01))\n",
    "grid = grid.addGrid(lr.elasticNetParam, [0,1])\n",
    "\n",
    "# Build the grid\n",
    "grid = grid.build()"
   ]
  },
  {
   "cell_type": "markdown",
   "id": "784546b0-9b7b-4089-ae73-1bda15a6aa77",
   "metadata": {},
   "source": [
    "## Make the Validator"
   ]
  },
  {
   "cell_type": "code",
   "execution_count": 73,
   "id": "d547bb5a-be42-4978-b05d-722e1bd38e26",
   "metadata": {},
   "outputs": [],
   "source": [
    "# Create the CrossValidator\n",
    "cv = tune.CrossValidator(estimator=lr,\n",
    "               estimatorParamMaps=grid,\n",
    "               evaluator=evaluator\n",
    "               )"
   ]
  },
  {
   "cell_type": "markdown",
   "id": "ea411e65-f4c4-49fa-a579-f34117b5b3b8",
   "metadata": {},
   "source": [
    "## Fit the model(s)"
   ]
  },
  {
   "cell_type": "code",
   "execution_count": 74,
   "id": "4d31f563-fd64-4a62-919d-9611c6f08fb0",
   "metadata": {},
   "outputs": [],
   "source": [
    "# # Fit cross validation models\n",
    "# models = cv.fit(training)\n",
    "\n",
    "# # Extract the best model\n",
    "# best_lr = models.bestModel"
   ]
  },
  {
   "cell_type": "code",
   "execution_count": 75,
   "id": "23c518db-e676-49cc-a30c-758a95492c3f",
   "metadata": {},
   "outputs": [
    {
     "name": "stderr",
     "output_type": "stream",
     "text": [
      "24/02/03 17:46:36 WARN InstanceBuilder: Failed to load implementation from:dev.ludovic.netlib.blas.JNIBLAS\n",
      "                                                                                \r"
     ]
    },
    {
     "name": "stdout",
     "output_type": "stream",
     "text": [
      "LogisticRegressionModel: uid=LogisticRegression_c5f6708eb951, numClasses=2, numFeatures=574\n"
     ]
    }
   ],
   "source": [
    "# Call lr.fit()\n",
    "best_lr = lr.fit(training)\n",
    "\n",
    "# Print best_lr\n",
    "print(best_lr)"
   ]
  },
  {
   "cell_type": "markdown",
   "id": "9f0d4fa8-2f06-40f6-a233-7433ae00defc",
   "metadata": {},
   "source": [
    "## Evaluate the model\n"
   ]
  },
  {
   "cell_type": "code",
   "execution_count": 76,
   "id": "0e902c5c-2da6-4d37-9139-3a6e8d866efd",
   "metadata": {},
   "outputs": [
    {
     "name": "stderr",
     "output_type": "stream",
     "text": [
      "                                                                                \r"
     ]
    },
    {
     "name": "stdout",
     "output_type": "stream",
     "text": [
      "0.5727635308891611\n"
     ]
    }
   ],
   "source": [
    "# Use the model to predict the test set\n",
    "test_results = best_lr.transform(test)\n",
    "\n",
    "# Evaluate the predictions\n",
    "print(evaluator.evaluate(test_results))"
   ]
  }
 ],
 "metadata": {
  "kernelspec": {
   "display_name": "Python 3 (ipykernel)",
   "language": "python",
   "name": "python3"
  },
  "language_info": {
   "codemirror_mode": {
    "name": "ipython",
    "version": 3
   },
   "file_extension": ".py",
   "mimetype": "text/x-python",
   "name": "python",
   "nbconvert_exporter": "python",
   "pygments_lexer": "ipython3",
   "version": "3.9.18"
  }
 },
 "nbformat": 4,
 "nbformat_minor": 5
}
